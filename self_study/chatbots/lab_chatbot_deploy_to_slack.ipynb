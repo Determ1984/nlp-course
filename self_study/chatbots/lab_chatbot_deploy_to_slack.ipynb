{
 "cells": [
  {
   "cell_type": "markdown",
   "metadata": {},
   "source": [
    "Deploy Eliza to Slack\n",
    "------\n",
    "\n",
    "![](images/slack_bot.png)"
   ]
  },
  {
   "cell_type": "markdown",
   "metadata": {},
   "source": [
    "__Objective__: Deploy your chatbot Eliza to Slack.\n",
    "\n",
    "1. [Create your own Slack team](https://slack.com/create) to deploy your bot\n",
    "2. Follow these directions: https://www.fullstackpython.com/blog/build-first-slack-bot-python.html\n",
    "3. Modify StarterBot code to include Eliza's code"
   ]
  },
  {
   "cell_type": "markdown",
   "metadata": {},
   "source": [
    "Hints\n",
    "----\n",
    "\n",
    "- Here is my deployment checklist from a hackathon that might help: https://github.com/brianspiering/family_style_chat_bot/blob/master/docs/deployment_checklist.md\n",
    "- ignore `virtualenv`. Install everything in `root` or `nlp`\n",
    "- message at your bot in a Slack channel `@eliza_bot i feel fine`\n",
    "- if you are having trouble finding your bot id add a print statement\n",
    "```python\n",
    "...\n",
    "for user in users:\n",
    "    print(user.get('name'))\n",
    "...\n",
    "```"
   ]
  },
  {
   "cell_type": "markdown",
   "metadata": {},
   "source": [
    "----\n",
    "Challenge Activities\n",
    "----"
   ]
  },
  {
   "cell_type": "markdown",
   "metadata": {},
   "source": [
    "Refactor your code to use a better Slack API https://www.fullstackpython.com/blog/build-first-slack-bot-python.html"
   ]
  },
  {
   "cell_type": "markdown",
   "metadata": {},
   "source": [
    "<br>\n",
    "<br> \n",
    "<br>\n",
    "\n",
    "----"
   ]
  }
 ],
 "metadata": {
  "kernelspec": {
   "display_name": "Python 3",
   "language": "python",
   "name": "python3"
  },
  "language_info": {
   "codemirror_mode": {
    "name": "ipython",
    "version": 3
   },
   "file_extension": ".py",
   "mimetype": "text/x-python",
   "name": "python",
   "nbconvert_exporter": "python",
   "pygments_lexer": "ipython3",
   "version": "3.5.2"
  }
 },
 "nbformat": 4,
 "nbformat_minor": 0
}
