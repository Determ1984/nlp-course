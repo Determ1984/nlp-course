{
 "cells": [
  {
   "cell_type": "markdown",
   "metadata": {},
   "source": [
    "http://www.nltk.org/api/nltk.chat.html"
   ]
  },
  {
   "cell_type": "code",
   "execution_count": 1,
   "metadata": {
    "collapsed": true
   },
   "outputs": [],
   "source": [
    "from nltk.chat import *"
   ]
  },
  {
   "cell_type": "code",
   "execution_count": 2,
   "metadata": {},
   "outputs": [
    {
     "name": "stdout",
     "output_type": "stream",
     "text": [
      "Variable         Type        Data/Info\n",
      "--------------------------------------\n",
      "Chat             type        <class 'nltk.chat.util.Chat'>\n",
      "bots             list        n=5\n",
      "chatbots         function    <function chatbots at 0x10f3aae18>\n",
      "eliza            module      <module 'nltk.chat.eliza'<...>ages/nltk/chat/eliza.py'>\n",
      "eliza_chat       function    <function eliza_chat at 0x118027730>\n",
      "iesha            module      <module 'nltk.chat.iesha'<...>ages/nltk/chat/iesha.py'>\n",
      "iesha_chat       function    <function iesha_chat at 0x118027e18>\n",
      "print_function   _Feature    _Feature((2, 6, 0, 'alpha<...>0, 0, 'alpha', 0), 65536)\n",
      "rude             module      <module 'nltk.chat.rude' <...>kages/nltk/chat/rude.py'>\n",
      "rude_chat        function    <function rude_chat at 0x118027ea0>\n",
      "suntsu           module      <module 'nltk.chat.suntsu<...>ges/nltk/chat/suntsu.py'>\n",
      "suntsu_chat      function    <function suntsu_chat at 0x1180422f0>\n",
      "util             module      <module 'nltk.chat.util' <...>kages/nltk/chat/util.py'>\n",
      "zen              module      <module 'nltk.chat.zen' f<...>ckages/nltk/chat/zen.py'>\n",
      "zen_chat         function    <function zen_chat at 0x118042598>\n"
     ]
    }
   ],
   "source": [
    "whos"
   ]
  },
  {
   "cell_type": "code",
   "execution_count": 3,
   "metadata": {},
   "outputs": [
    {
     "data": {
      "text/plain": [
       "[(<function nltk.chat.eliza.eliza_chat>, 'Eliza (psycho-babble)'),\n",
       " (<function nltk.chat.iesha.iesha_chat>, 'Iesha (teen anime junky)'),\n",
       " (<function nltk.chat.rude.rude_chat>, 'Rude (abusive bot)'),\n",
       " (<function nltk.chat.suntsu.suntsu_chat>, 'Suntsu (Chinese sayings)'),\n",
       " (<function nltk.chat.zen.zen_chat>, 'Zen (gems of wisdom)')]"
      ]
     },
     "execution_count": 3,
     "metadata": {},
     "output_type": "execute_result"
    }
   ],
   "source": [
    "bots"
   ]
  },
  {
   "cell_type": "code",
   "execution_count": 3,
   "metadata": {},
   "outputs": [
    {
     "name": "stdout",
     "output_type": "stream",
     "text": [
      "Therapist\n",
      "---------\n",
      "Talk to the program by typing in plain English, using normal upper-\n",
      "and lower-case letters and punctuation.  Enter \"quit\" when done.\n",
      "========================================================================\n",
      "Hello.  How are you feeling today?\n",
      ">i'm a little sad because my puppy is at home\n",
      "How does being a little sad because your puppy is at home make you feel?\n",
      ">sad\n",
      "I see.\n",
      ">quit\n",
      "Thank you for talking with me.\n"
     ]
    }
   ],
   "source": [
    "eliza_chat()"
   ]
  },
  {
   "cell_type": "code",
   "execution_count": 4,
   "metadata": {},
   "outputs": [
    {
     "name": "stdout",
     "output_type": "stream",
     "text": [
      "Iesha the TeenBoT\n",
      "---------\n",
      "Talk to the program by typing in plain English, using normal upper-\n",
      "and lower-case letters and punctuation.  Enter \"quit\" when done.\n",
      "========================================================================\n",
      "hi!! i'm iesha! who r u??!\n",
      ">hey babe\n",
      "hi!!! how r u!!\n",
      ">want to hook up?\n",
      "booooring! how old r u?\n",
      ">55\n",
      "do u watch anime? i like sailor moon! ^_^\n",
      ">quit\n",
      "mom says i have to go eat dinner now :,( bye!!\n"
     ]
    }
   ],
   "source": [
    "iesha_chat()"
   ]
  },
  {
   "cell_type": "markdown",
   "metadata": {},
   "source": [
    "----"
   ]
  },
  {
   "cell_type": "code",
   "execution_count": 6,
   "metadata": {},
   "outputs": [
    {
     "name": "stdout",
     "output_type": "stream",
     "text": [
      "Variable         Type        Data/Info\n",
      "--------------------------------------\n",
      "Chat             type        <class 'nltk.chat.util.Chat'>\n",
      "bots             list        n=5\n",
      "chatbots         function    <function chatbots at 0x102991e18>\n",
      "eliza            module      <module 'nltk.chat.eliza'<...>ages/nltk/chat/eliza.py'>\n",
      "eliza_chat       function    <function eliza_chat at 0x10b69b730>\n",
      "iesha            module      <module 'nltk.chat.iesha'<...>ages/nltk/chat/iesha.py'>\n",
      "iesha_chat       function    <function iesha_chat at 0x10b69be18>\n",
      "print_function   _Feature    _Feature((2, 6, 0, 'alpha<...>0, 0, 'alpha', 0), 65536)\n",
      "rude             module      <module 'nltk.chat.rude' <...>kages/nltk/chat/rude.py'>\n",
      "rude_chat        function    <function rude_chat at 0x10b69bea0>\n",
      "suntsu           module      <module 'nltk.chat.suntsu<...>ges/nltk/chat/suntsu.py'>\n",
      "suntsu_chat      function    <function suntsu_chat at 0x10b6b62f0>\n",
      "util             module      <module 'nltk.chat.util' <...>kages/nltk/chat/util.py'>\n",
      "zen              module      <module 'nltk.chat.zen' f<...>ckages/nltk/chat/zen.py'>\n",
      "zen_chat         function    <function zen_chat at 0x10b6b6598>\n"
     ]
    }
   ],
   "source": [
    "whos"
   ]
  },
  {
   "cell_type": "code",
   "execution_count": 11,
   "metadata": {},
   "outputs": [
    {
     "name": "stdout",
     "output_type": "stream",
     "text": [
      "Help on class Chat in module nltk.chat.util:\n",
      "\n",
      "class Chat(builtins.object)\n",
      " |  Methods defined here:\n",
      " |  \n",
      " |  __init__(self, pairs, reflections={})\n",
      " |      Initialize the chatbot.  Pairs is a list of patterns and responses.  Each\n",
      " |      pattern is a regular expression matching the user's statement or question,\n",
      " |      e.g. r'I like (.*)'.  For each such pattern a list of possible responses\n",
      " |      is given, e.g. ['Why do you like %1', 'Did you ever dislike %1'].  Material\n",
      " |      which is matched by parenthesized sections of the patterns (e.g. .*) is mapped to\n",
      " |      the numbered positions in the responses, e.g. %1.\n",
      " |      \n",
      " |      :type pairs: list of tuple\n",
      " |      :param pairs: The patterns and responses\n",
      " |      :type reflections: dict\n",
      " |      :param reflections: A mapping between first and second person expressions\n",
      " |      :rtype: None\n",
      " |  \n",
      " |  converse(self, quit='quit')\n",
      " |      # Hold a conversation with a chatbot\n",
      " |  \n",
      " |  respond(self, str)\n",
      " |      Generate a response to the user input.\n",
      " |      \n",
      " |      :type str: str\n",
      " |      :param str: The string to be mapped\n",
      " |      :rtype: str\n",
      " |  \n",
      " |  ----------------------------------------------------------------------\n",
      " |  Data descriptors defined here:\n",
      " |  \n",
      " |  __dict__\n",
      " |      dictionary for instance variables (if defined)\n",
      " |  \n",
      " |  __weakref__\n",
      " |      list of weak references to the object (if defined)\n",
      "\n"
     ]
    }
   ],
   "source": [
    "help(Chat)"
   ]
  },
  {
   "cell_type": "markdown",
   "metadata": {},
   "source": [
    "[Learn more here](http://www.nltk.org/_modules/nltk/chat/util.html#Chat)"
   ]
  }
 ],
 "metadata": {
  "kernelspec": {
   "display_name": "Python 3",
   "language": "python",
   "name": "python3"
  },
  "language_info": {
   "codemirror_mode": {
    "name": "ipython",
    "version": 3
   },
   "file_extension": ".py",
   "mimetype": "text/x-python",
   "name": "python",
   "nbconvert_exporter": "python",
   "pygments_lexer": "ipython3",
   "version": "3.6.2"
  }
 },
 "nbformat": 4,
 "nbformat_minor": 1
}
