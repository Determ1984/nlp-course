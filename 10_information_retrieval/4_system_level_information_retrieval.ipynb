{
 "cells": [
  {
   "cell_type": "markdown",
   "metadata": {
    "slideshow": {
     "slide_type": "slide"
    }
   },
   "source": [
    "Information Retrieval (IR)\n",
    "----\n",
    "\n",
    "<center><img src=\"https://larrycuban.files.wordpress.com/2016/03/google-cartoon-021.gif\" width=\"35%\"/></center>"
   ]
  },
  {
   "cell_type": "markdown",
   "metadata": {
    "slideshow": {
     "slide_type": "slide"
    }
   },
   "source": [
    "By The End Of This Session You Should Be Able To:\n",
    "----\n",
    "\n",
    "- Explain the steps in an IR system\n",
    "- List common IR system evaluation frameworks\n",
    "- Describe a \"2 pass\" IR system"
   ]
  },
  {
   "cell_type": "markdown",
   "metadata": {
    "slideshow": {
     "slide_type": "slide"
    }
   },
   "source": [
    "How can a system __effectively__ satisfy its objectives?\n",
    "\n",
    "How can a system __efficiently__ satisfy its objectives?"
   ]
  },
  {
   "cell_type": "markdown",
   "metadata": {
    "slideshow": {
     "slide_type": "slide"
    }
   },
   "source": [
    "Search System Steps\n",
    "------\n",
    "\n",
    "User Intention -> Query -> Search Engine Processing -> Select Documents  from Collection -> Return SERP -> User is 😁"
   ]
  },
  {
   "cell_type": "markdown",
   "metadata": {
    "slideshow": {
     "slide_type": "slide"
    }
   },
   "source": [
    "Search System Issues\n",
    "------\n",
    "\n",
    "- What is the user's intention?\n",
    "    - Is it get information?\n",
    "    - Is it to accomplish a task?\n",
    "- What is the query?\n",
    "    - Anything from single word to an entire document\n",
    "- How good is your Search Engine?\n",
    "- How good is your Document Collection?\n",
    "- SERP\n",
    "    - Content\n",
    "    - Presentation (possibly more important than content)"
   ]
  },
  {
   "cell_type": "markdown",
   "metadata": {
    "slideshow": {
     "slide_type": "slide"
    }
   },
   "source": [
    "Search System Architecture\n",
    "------\n",
    "<center><img src=\"https://upload.wikimedia.org/wikipedia/en/f/fa/MLR-search-engine-example.png\" width=\"45%\"/></center>"
   ]
  },
  {
   "cell_type": "markdown",
   "metadata": {
    "slideshow": {
     "slide_type": "slide"
    }
   },
   "source": [
    "User Queries Characteristics\n",
    "-----\n",
    "\n",
    "- Sessions baseds\n",
    "- Users revisit their queries\n",
    "- Very short queries, typically 2-3 words long\n",
    "- A large number of typos\n",
    "- A small number of popular queries\n",
    "- A long tail of infrequent ones\n",
    "- Almost no use of advanced query operators* (AND / OR)\n",
    "\n",
    "\\*with the exception of double quotes"
   ]
  },
  {
   "cell_type": "markdown",
   "metadata": {
    "slideshow": {
     "slide_type": "slide"
    }
   },
   "source": [
    "Lancaster Criteria (1971)\n",
    "---\n",
    "\n",
    "1. Coverage of the system\n",
    "2. Ability of the system to retrieve wanted items (i.e. recall).\n",
    "3. Ability of the system to avoid retrieval of unwanted items (i.e. precision).\n",
    "4. The response time of the system\n",
    "5. The amount of effort required by the user."
   ]
  },
  {
   "cell_type": "markdown",
   "metadata": {
    "slideshow": {
     "slide_type": "slide"
    }
   },
   "source": [
    "Vickery Criteria\n",
    "----\n",
    "\n",
    "Set 1:\n",
    "\n",
    "1. Coverage - the proportion of the total potentially useful literature that has been analyzed.\n",
    "2. Recall - the proportion of such references that are retrieved in a search, and\n",
    "3. Response time - the average time needed to obtain a response from the system."
   ]
  },
  {
   "cell_type": "markdown",
   "metadata": {
    "slideshow": {
     "slide_type": "slide"
    }
   },
   "source": [
    "Vickery Criteria\n",
    "----\n",
    "\n",
    "Set 2:\n",
    "\n",
    "4. Precision - the ability of the system to screen out irrelevant references\n",
    "5. Usability - the value of the references retrieved, in terms of such factors as their reliability and comprehensibility\n",
    "6. Presentation - the form in which search results are presented to the user."
   ]
  },
  {
   "cell_type": "markdown",
   "metadata": {
    "slideshow": {
     "slide_type": "slide"
    }
   },
   "source": [
    "Google's 5 axes of search\n",
    "----"
   ]
  },
  {
   "cell_type": "markdown",
   "metadata": {
    "slideshow": {
     "slide_type": "fragment"
    }
   },
   "source": [
    "1) Speed (fast is always better than slow)"
   ]
  },
  {
   "cell_type": "markdown",
   "metadata": {
    "slideshow": {
     "slide_type": "fragment"
    }
   },
   "source": [
    "2) Accuracy[sic] (How relevant are the results to the user’s query?)"
   ]
  },
  {
   "cell_type": "markdown",
   "metadata": {
    "slideshow": {
     "slide_type": "fragment"
    }
   },
   "source": [
    "3) Ease of use (Can everyone’s grandparents use Google?)"
   ]
  },
  {
   "cell_type": "markdown",
   "metadata": {
    "slideshow": {
     "slide_type": "fragment"
    }
   },
   "source": [
    "4) Comprehensiveness (Are we searching the entire Internet?)"
   ]
  },
  {
   "cell_type": "markdown",
   "metadata": {
    "slideshow": {
     "slide_type": "fragment"
    }
   },
   "source": [
    "5) Freshness (How fresh are the results?)\n",
    "\n",
    "[Source](http://www.bookbuzz.biz/google-works/)"
   ]
  },
  {
   "cell_type": "markdown",
   "metadata": {
    "slideshow": {
     "slide_type": "slide"
    }
   },
   "source": [
    "Challenge question\n",
    "---\n",
    "\n",
    "How would you visualization these 5 axes?"
   ]
  },
  {
   "cell_type": "markdown",
   "metadata": {
    "slideshow": {
     "slide_type": "slide"
    }
   },
   "source": [
    "Radar graph  \n",
    "-----\n",
    "<center><img src=\"http://jpgraph.net/download/manuals/chunkhtml/images/fixscale_radarex1.png\" width=\"45%\"/></center>"
   ]
  },
  {
   "cell_type": "markdown",
   "metadata": {
    "slideshow": {
     "slide_type": "slide"
    }
   },
   "source": [
    "<center><img src=\"images/google.png\" width=\"75%\"/></center>\n"
   ]
  },
  {
   "cell_type": "markdown",
   "metadata": {
    "slideshow": {
     "slide_type": "skip"
    }
   },
   "source": [
    "\n",
    "[Source](http://static.googleusercontent.com/media/research.google.com/en//people/jeff/Stanford-DL-Nov-2010.pdf)"
   ]
  },
  {
   "cell_type": "markdown",
   "metadata": {
    "collapsed": true,
    "slideshow": {
     "slide_type": "slide"
    }
   },
   "source": [
    "Modern Systems: 2 pass IR systems\n",
    "----\n",
    "\n",
    "1st Pass: High Recall - Fast & Loose  \n",
    "\n",
    "2nd Pass: High Precision - Slow & Accurate  "
   ]
  },
  {
   "cell_type": "markdown",
   "metadata": {
    "slideshow": {
     "slide_type": "slide"
    }
   },
   "source": [
    "<center><img src=\"images/2_pass_IR_system.png\" width=\"75%\"/></center>"
   ]
  },
  {
   "cell_type": "markdown",
   "metadata": {
    "slideshow": {
     "slide_type": "slide"
    }
   },
   "source": [
    "Brian's Triangle of Ad Serving Sadness\n",
    "------\n",
    "\n",
    "<center><img src=\"https://cdn.drawception.com/images/panels/2015/11-30/Ozx5WwHnWE-10.png\" width=\"55%\"/></center>"
   ]
  },
  {
   "cell_type": "markdown",
   "metadata": {
    "slideshow": {
     "slide_type": "slide"
    }
   },
   "source": [
    "Ad serving is a search problem\n",
    "------\n",
    "\n",
    "Users cares most about precision.\n",
    "\n",
    "Businesses care most about recall.\n",
    "\n",
    "Platform cares most about engagement."
   ]
  },
  {
   "cell_type": "markdown",
   "metadata": {
    "slideshow": {
     "slide_type": "slide"
    }
   },
   "source": [
    "Summary\n",
    "----\n",
    "\n",
    "- An IR system tries to deliver what an user wants\n",
    "- We can evaluate a system using:\n",
    "    - Lancaster Criteria\n",
    "    - Vickery Criteria\n",
    "    - Google's 5 Axes of Search\n",
    "- A \"2 pass\" IR system:\n",
    "    1. High Recall\n",
    "    2. High Precision \n",
    "- Ad serving is going to disappoint someone. Choose wisely."
   ]
  },
  {
   "cell_type": "markdown",
   "metadata": {
    "collapsed": true,
    "slideshow": {
     "slide_type": "slide"
    }
   },
   "source": [
    "<br>\n",
    "<br> \n",
    "<br>\n",
    "\n",
    "----"
   ]
  }
 ],
 "metadata": {
  "celltoolbar": "Slideshow",
  "kernelspec": {
   "display_name": "Python 3",
   "language": "python",
   "name": "python3"
  },
  "language_info": {
   "codemirror_mode": {
    "name": "ipython",
    "version": 3
   },
   "file_extension": ".py",
   "mimetype": "text/x-python",
   "name": "python",
   "nbconvert_exporter": "python",
   "pygments_lexer": "ipython3",
   "version": "3.6.5"
  }
 },
 "nbformat": 4,
 "nbformat_minor": 1
}
