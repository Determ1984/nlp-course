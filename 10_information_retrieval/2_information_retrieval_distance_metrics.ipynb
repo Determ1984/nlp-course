{
 "cells": [
  {
   "cell_type": "markdown",
   "metadata": {
    "slideshow": {
     "slide_type": "slide"
    }
   },
   "source": [
    "Information Retrieval <br> Distance Metrics\n",
    "----\n",
    "<center><img src=\"http://www.caida.org/research/topology/hiddenmetricspaces/images/hidden-structure.png\" width=\"75%\"/></center>"
   ]
  },
  {
   "cell_type": "markdown",
   "metadata": {
    "slideshow": {
     "slide_type": "slide"
    }
   },
   "source": [
    "By The End Of This Session You Should Be Able To:\n",
    "----\n",
    "\n",
    "- Use Jaccard similarity to quantify the relationship between a query and document\n",
    "- Use Cosine similarity to measure the distance between query and document"
   ]
  },
  {
   "cell_type": "markdown",
   "metadata": {
    "collapsed": true,
    "slideshow": {
     "slide_type": "slide"
    }
   },
   "source": [
    "> \"It's like being in a library where someone has scattered all the books on the floor, attached them together with threads and you are in the dark.\"  \n",
    "> — MorningSide, CBC Radio, May 1995\n",
    "\n",
    "The need for ranking SERP"
   ]
  },
  {
   "cell_type": "markdown",
   "metadata": {
    "slideshow": {
     "slide_type": "slide"
    }
   },
   "source": [
    "Distance Metrics: Collect them all!\n",
    "-----\n",
    "\n",
    "What are examples of distance metrics for text? "
   ]
  },
  {
   "cell_type": "markdown",
   "metadata": {
    "slideshow": {
     "slide_type": "slide"
    }
   },
   "source": [
    "<center><img src=\"images/types_of_distance.png\" width=\"75%\"/></center>"
   ]
  },
  {
   "cell_type": "markdown",
   "metadata": {
    "slideshow": {
     "slide_type": "slide"
    }
   },
   "source": [
    "Distance Metrics: Compare query and documents\n",
    "-----\n",
    "\n",
    "- Jaccard similarity\n",
    "- Cosine Similarity"
   ]
  },
  {
   "cell_type": "markdown",
   "metadata": {
    "collapsed": true,
    "slideshow": {
     "slide_type": "slide"
    }
   },
   "source": [
    "Jaccard similarity\n",
    "----\n",
    "\n",
    "<center><img src=\"images/jaccard.png\" width=\"75%\"/></center>"
   ]
  },
  {
   "cell_type": "markdown",
   "metadata": {
    "slideshow": {
     "slide_type": "slide"
    }
   },
   "source": [
    "<center><img src=\"https://dataaspirant.files.wordpress.com/2015/04/jaccard_similariyt.png\" width=\"75%\"/></center>"
   ]
  },
  {
   "cell_type": "markdown",
   "metadata": {
    "slideshow": {
     "slide_type": "slide"
    }
   },
   "source": [
    "\n",
    "<center><img src=\"https://dataaspirant.files.wordpress.com/2015/04/jaccaard2.png\" width=\"75%\"/></center>\n",
    "\n"
   ]
  },
  {
   "cell_type": "markdown",
   "metadata": {
    "slideshow": {
     "slide_type": "slide"
    }
   },
   "source": [
    "<center><img src=\"https://dataaspirant.files.wordpress.com/2015/04/jaccaard3.png\" width=\"75%\"/></center>\n",
    "\n"
   ]
  },
  {
   "cell_type": "markdown",
   "metadata": {
    "slideshow": {
     "slide_type": "skip"
    }
   },
   "source": [
    "[Source](https://dataaspirant.com/2015/04/11/five-most-popular-similarity-measures-implementation-in-python/)"
   ]
  },
  {
   "cell_type": "markdown",
   "metadata": {
    "collapsed": true,
    "slideshow": {
     "slide_type": "slide"
    }
   },
   "source": [
    "Why Jaccard similarity?\n",
    "----\n",
    "\n",
    "Apply set operations to get distance between items.\n",
    "\n"
   ]
  },
  {
   "cell_type": "markdown",
   "metadata": {
    "slideshow": {
     "slide_type": "fragment"
    }
   },
   "source": [
    "It is a simple recommender system! Your content could be words, images, or wines.\n",
    "\n",
    "__Hint__: Do this first, way before collaborative filtering."
   ]
  },
  {
   "cell_type": "markdown",
   "metadata": {
    "collapsed": true,
    "slideshow": {
     "slide_type": "slide"
    }
   },
   "source": [
    "How do you calculate Jaccard similarity?\n",
    "---\n",
    "<center><img src=\"images/trumpy.jpg\" width=\"45%\"/></center>\n",
    "<center><img src=\"images/collins.png\" width=\"45%\"/></center>"
   ]
  },
  {
   "cell_type": "code",
   "execution_count": 3,
   "metadata": {
    "collapsed": true,
    "slideshow": {
     "slide_type": "slide"
    }
   },
   "outputs": [],
   "source": [
    "q1 = \"I mean, part of the beauty of me is that I'm very very rich.\"\n",
    "q2 = \"The problem with beauty is that it's like being born rich and getting poorer.\""
   ]
  },
  {
   "cell_type": "markdown",
   "metadata": {
    "collapsed": true,
    "slideshow": {
     "slide_type": "fragment"
    }
   },
   "source": [
    "<center><img src=\"images/jaccard.png\" width=\"75%\"/></center>\n",
    "\n"
   ]
  },
  {
   "cell_type": "markdown",
   "metadata": {
    "collapsed": true,
    "slideshow": {
     "slide_type": "fragment"
    }
   },
   "source": [
    "Student Activity\n",
    "------\n",
    "\n",
    "Write a function to calculate Jaccard similarity"
   ]
  },
  {
   "cell_type": "code",
   "execution_count": 9,
   "metadata": {
    "collapsed": true,
    "slideshow": {
     "slide_type": "fragment"
    }
   },
   "outputs": [],
   "source": [
    "from fractions import Fraction\n",
    "\n",
    "assert jaccard_sim(q1, q2) == Fraction(5, 21) # 5/21"
   ]
  },
  {
   "cell_type": "code",
   "execution_count": 8,
   "metadata": {
    "slideshow": {
     "slide_type": "slide"
    }
   },
   "outputs": [],
   "source": [
    "def jaccard_sim(a, b):\n",
    "    \"\"\"Calculate the jaccard similarity of the 2 docuents.\n",
    "    jaccard similarity is the overlap of two sets.\n",
    "    jaccard_sim = |A intersection B| / | A union B|\n",
    "    \"\"\"\n",
    "    # Munging\n",
    "    a = a.lower().replace(\".\", \"\").replace(\",\", \"\").replace(\"'\", \"\")\n",
    "    b = b.lower().replace(\".\", \"\").replace(\",\", \"\").replace(\"'\", \"\")\n",
    "\n",
    "    a = set(a.split())\n",
    "    b = set(b.split())\n",
    "    \n",
    "    return Fraction(len(a.intersection(b)), len(a.union(b)))"
   ]
  },
  {
   "cell_type": "code",
   "execution_count": 5,
   "metadata": {
    "slideshow": {
     "slide_type": "fragment"
    }
   },
   "outputs": [
    {
     "data": {
      "text/plain": [
       "Fraction(5, 21)"
      ]
     },
     "execution_count": 5,
     "metadata": {},
     "output_type": "execute_result"
    }
   ],
   "source": [
    "jaccard_sim(q1, q2)"
   ]
  },
  {
   "cell_type": "markdown",
   "metadata": {
    "collapsed": true,
    "slideshow": {
     "slide_type": "slide"
    }
   },
   "source": [
    "What are limitations of Jaccard similarity?\n",
    "---"
   ]
  },
  {
   "cell_type": "markdown",
   "metadata": {
    "slideshow": {
     "slide_type": "fragment"
    }
   },
   "source": [
    "1. Assumes items are hashable (aka, able to make into members of a set).  \n",
    "\n",
    "2. Ignores rate, how often a item appears."
   ]
  },
  {
   "cell_type": "markdown",
   "metadata": {
    "collapsed": true,
    "slideshow": {
     "slide_type": "slide"
    }
   },
   "source": [
    "What is the Cosine Similarity?\n",
    "---\n",
    "\n",
    "<center><img src=\"https://dataaspirant.files.wordpress.com/2015/04/cosine.png\" width=\"75%\"/></center>"
   ]
  },
  {
   "cell_type": "markdown",
   "metadata": {
    "slideshow": {
     "slide_type": "slide"
    }
   },
   "source": [
    "<center><img src=\"images/cosine_similarity.png\" width=\"75%\"/></center>"
   ]
  },
  {
   "cell_type": "markdown",
   "metadata": {
    "collapsed": true,
    "slideshow": {
     "slide_type": "slide"
    }
   },
   "source": [
    "Why is cosine similarity so powerful?\n",
    "-----"
   ]
  },
  {
   "cell_type": "markdown",
   "metadata": {
    "slideshow": {
     "slide_type": "slide"
    }
   },
   "source": [
    "1. It is a vector based distance metric thus is fast and easy to calculate.  \n",
    "\n",
    "2. It easy to interpret because it is bounded between -1 and 1.\n",
    "\n",
    "[Cosine similarity calculator](http://www.appliedsoftwaredesign.com/archives/cosine-similarity-calculator)"
   ]
  },
  {
   "cell_type": "markdown",
   "metadata": {
    "collapsed": true,
    "slideshow": {
     "slide_type": "slide"
    }
   },
   "source": [
    "How to build a simple IR system\n",
    "----\n",
    "\n",
    "1. Convert the document to vector (tf-idf or embedding)\n",
    "1. Convert the query to vector (tf-idf or embedding)\n",
    "1. Compute cosine similarity between document vector and query vector\n",
    "1. Rank documents\n",
    "1. Return top K scores"
   ]
  },
  {
   "cell_type": "markdown",
   "metadata": {
    "collapsed": true,
    "slideshow": {
     "slide_type": "slide"
    }
   },
   "source": [
    "<center><img src=\"images/slide_7.jpg\" width=\"75%\"/></center>\n",
    "\n",
    "Remember to normalize"
   ]
  },
  {
   "cell_type": "markdown",
   "metadata": {
    "slideshow": {
     "slide_type": "slide"
    }
   },
   "source": [
    "<center><img src=\"images/co_distance.png\" width=\"75%\"/></center>"
   ]
  },
  {
   "cell_type": "markdown",
   "metadata": {
    "collapsed": true,
    "slideshow": {
     "slide_type": "slide"
    }
   },
   "source": [
    "<br>\n",
    "<br> \n",
    "<br>\n",
    "\n",
    "----"
   ]
  }
 ],
 "metadata": {
  "celltoolbar": "Slideshow",
  "kernelspec": {
   "display_name": "Python 3",
   "language": "python",
   "name": "python3"
  },
  "language_info": {
   "codemirror_mode": {
    "name": "ipython",
    "version": 3
   },
   "file_extension": ".py",
   "mimetype": "text/x-python",
   "name": "python",
   "nbconvert_exporter": "python",
   "pygments_lexer": "ipython3",
   "version": "3.6.5"
  }
 },
 "nbformat": 4,
 "nbformat_minor": 1
}
