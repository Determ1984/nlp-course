{
 "cells": [
  {
   "cell_type": "markdown",
   "metadata": {
    "slideshow": {
     "slide_type": "slide"
    }
   },
   "source": [
    "Information Retrieval (IR)\n",
    "----\n",
    "\n",
    "<center><img src=\"http://boston.lti.cs.cmu.edu/classes/11-744/treclogo-c.gif\" width=\"75%\"/></center>"
   ]
  },
  {
   "cell_type": "markdown",
   "metadata": {
    "slideshow": {
     "slide_type": "slide"
    }
   },
   "source": [
    "By The End Of This Session You Should Be Able To:\n",
    "----\n",
    "\n",
    "- Explain what is Information Retrieval (IR) and why it is important\n",
    "- Draw the architecture for an IR system\n",
    "- Create a basic IR system with the following features:\n",
    "    - Document-term matrix\n",
    "    - Boolean retrieval"
   ]
  },
  {
   "cell_type": "markdown",
   "metadata": {
    "slideshow": {
     "slide_type": "slide"
    }
   },
   "source": [
    "\n",
    "What is Information Retrieval (IR)?\n",
    "-----"
   ]
  },
  {
   "cell_type": "markdown",
   "metadata": {
    "slideshow": {
     "slide_type": "fragment"
    }
   },
   "source": [
    "Based on a user query, search \"documents\" and present the user with the relevant information."
   ]
  },
  {
   "cell_type": "markdown",
   "metadata": {
    "slideshow": {
     "slide_type": "fragment"
    }
   },
   "source": [
    "Used to be 10 blue links\n",
    "\n",
    "Now:\n",
    "\n",
    "- The direct answer (not a pointer to a possible answer) to an outcome (e.g., a phone number to call)"
   ]
  },
  {
   "cell_type": "markdown",
   "metadata": {
    "slideshow": {
     "slide_type": "slide"
    }
   },
   "source": [
    "Which companies are search companies?\n",
    "-----"
   ]
  },
  {
   "cell_type": "markdown",
   "metadata": {
    "slideshow": {
     "slide_type": "fragment"
    }
   },
   "source": [
    "1. Google"
   ]
  },
  {
   "cell_type": "markdown",
   "metadata": {
    "slideshow": {
     "slide_type": "fragment"
    }
   },
   "source": [
    "- Amazon\n",
    "- Spotify\n",
    "- Apple\n",
    "- airbnb\n"
   ]
  },
  {
   "cell_type": "markdown",
   "metadata": {
    "slideshow": {
     "slide_type": "slide"
    }
   },
   "source": [
    "<center><h1>All companies become search companies at some point</h1></center>"
   ]
  },
  {
   "cell_type": "markdown",
   "metadata": {
    "slideshow": {
     "slide_type": "slide"
    }
   },
   "source": [
    "<center><img src=\"http://2.bp.blogspot.com/-cH7ahEOwClg/US7fo0mbloI/AAAAAAAAAlU/nCYCyfS5ztI/s1600/intelligize-logo-534x226.png\" width=\"75%\"/></center>\n",
    "\n",
    "> Efficiently search, retrieve and analyze SEC filings, agreements and exhibits. Utilize advanced analytics and comparison tools to pinpoint only the most relevant precedents.\n",
    "\n",
    "> Access statutes, rules, regulations and other materials pertinent to US capital markets.   \n",
    "> Granularly search through Comment Letters, corresponding responses, and No-Action Letters.\n"
   ]
  },
  {
   "cell_type": "markdown",
   "metadata": {
    "slideshow": {
     "slide_type": "slide"
    }
   },
   "source": [
    "Information Retrieval (IR) vs Search Engineering\n",
    "----\n",
    "\n",
    "Previously, IR was a physical library problem.\n",
    "\n",
    "Then came web search.\n",
    "\n",
    "Now that all companies are search companies, the original concepts and algorithms need to be expanded.\n",
    "   \n",
    "IR is just one small nested part of \"search engines\", there are large product and computer science parts."
   ]
  },
  {
   "cell_type": "markdown",
   "metadata": {
    "slideshow": {
     "slide_type": "slide"
    }
   },
   "source": [
    "Why is Information Retrieval (IR) important?\n",
    "-----"
   ]
  },
  {
   "cell_type": "markdown",
   "metadata": {
    "slideshow": {
     "slide_type": "fragment"
    }
   },
   "source": [
    "<center><img src=\"images/wisdom.jpg\" width=\"75%\"/></center>"
   ]
  },
  {
   "cell_type": "markdown",
   "metadata": {
    "slideshow": {
     "slide_type": "slide"
    }
   },
   "source": [
    "From strings to things\n",
    "-------\n",
    "\n",
    "<center><img src=\"https://www.google.com/intl/es419/insidesearch/features/search/assets/img/static-graph.png\" width=\"65%\"/></center>\n",
    "\n",
    "\n",
    "From string literals to intent\n",
    "\n",
    "What is the meaning, context, and relevance?"
   ]
  },
  {
   "cell_type": "markdown",
   "metadata": {
    "slideshow": {
     "slide_type": "slide"
    }
   },
   "source": [
    "<center><img src=\"images/search_engine.png\" width=\"75%\"/></center>"
   ]
  },
  {
   "cell_type": "markdown",
   "metadata": {
    "slideshow": {
     "slide_type": "slide"
    }
   },
   "source": [
    "IR System: The NLP parts\n",
    "---\n",
    "\n",
    "NLP is just one part.\n",
    "\n",
    "It is also about webcrawling, databases, and distributed sytems."
   ]
  },
  {
   "cell_type": "markdown",
   "metadata": {
    "slideshow": {
     "slide_type": "slide"
    }
   },
   "source": [
    "Information Retrieval Process (Fundamental)\n",
    "-----\n",
    "\n",
    "1. Given a collection of documents \n",
    "1. And an user’s query\n",
    "1. Find the most relevant documents"
   ]
  },
  {
   "cell_type": "markdown",
   "metadata": {
    "slideshow": {
     "slide_type": "slide"
    }
   },
   "source": [
    "Key IR Terms\n",
    "----\n",
    "\n",
    "- Query\n",
    "- Document\n",
    "- Term\n",
    "- Collection\n",
    "- Index"
   ]
  },
  {
   "cell_type": "markdown",
   "metadata": {
    "slideshow": {
     "slide_type": "slide"
    }
   },
   "source": [
    "Query\n",
    "----\n",
    "\n",
    "A representation of what the user is looking for. \n",
    "\n",
    "Can be stored as a tuple of ngrams."
   ]
  },
  {
   "cell_type": "markdown",
   "metadata": {
    "slideshow": {
     "slide_type": "slide"
    }
   },
   "source": [
    "Document\n",
    "----\n",
    "\n",
    "An information entity that the user wants."
   ]
  },
  {
   "cell_type": "markdown",
   "metadata": {
    "slideshow": {
     "slide_type": "slide"
    }
   },
   "source": [
    "Term\n",
    "----\n",
    "\n",
    "Word, token, or ngrams that appears in a document or a query"
   ]
  },
  {
   "cell_type": "markdown",
   "metadata": {
    "slideshow": {
     "slide_type": "slide"
    }
   },
   "source": [
    "Collection\n",
    "----\n",
    "\n",
    "A set of documents"
   ]
  },
  {
   "cell_type": "markdown",
   "metadata": {
    "slideshow": {
     "slide_type": "slide"
    }
   },
   "source": [
    "Collection Management\n",
    "-------\n",
    "\n",
    "1. Actual item representation (for users)\n",
    "1. Value-added representation (for the system)\n",
    "    - metadata\n",
    "    - fixed unicode\n",
    "    - tokens and counts\n",
    "    - links to it (PageRank)"
   ]
  },
  {
   "cell_type": "markdown",
   "metadata": {
    "slideshow": {
     "slide_type": "slide"
    }
   },
   "source": [
    "Index\n",
    "-----\n",
    "\n",
    "A representation of information that makes querying easier.\n",
    "\n",
    "Typically, a term with indexes of occurrence in documents."
   ]
  },
  {
   "cell_type": "markdown",
   "metadata": {
    "slideshow": {
     "slide_type": "slide"
    }
   },
   "source": [
    "Check for understanding\n",
    "--------\n",
    "\n",
    "What would be a good Python data structure for an index?"
   ]
  },
  {
   "cell_type": "markdown",
   "metadata": {
    "slideshow": {
     "slide_type": "fragment"
    }
   },
   "source": [
    "```python\n",
    "{'hoe': {0, 1, 9, 12}, # Term: {Document Indexes}\n",
    "'rake': {0, 1, 5, 9}\n",
    "}\n",
    "```"
   ]
  },
  {
   "cell_type": "markdown",
   "metadata": {
    "collapsed": true,
    "slideshow": {
     "slide_type": "slide"
    }
   },
   "source": [
    "Summary\n",
    "-----\n",
    "\n",
    "- All significantly advanced tech companies will make their own IR system\n",
    "- IR Systems:\n",
    "    - Have a collection of documents\n",
    "    - Process an user's query\n",
    "    - Returns a Search Engine Results Page (SERP)"
   ]
  },
  {
   "cell_type": "markdown",
   "metadata": {
    "collapsed": true,
    "slideshow": {
     "slide_type": "slide"
    }
   },
   "source": [
    "<br>\n",
    "<br> \n",
    "<br>\n",
    "\n",
    "----"
   ]
  }
 ],
 "metadata": {
  "celltoolbar": "Slideshow",
  "kernelspec": {
   "display_name": "Python 3",
   "language": "python",
   "name": "python3"
  },
  "language_info": {
   "codemirror_mode": {
    "name": "ipython",
    "version": 3
   },
   "file_extension": ".py",
   "mimetype": "text/x-python",
   "name": "python",
   "nbconvert_exporter": "python",
   "pygments_lexer": "ipython3",
   "version": "3.6.5"
  }
 },
 "nbformat": 4,
 "nbformat_minor": 1
}
