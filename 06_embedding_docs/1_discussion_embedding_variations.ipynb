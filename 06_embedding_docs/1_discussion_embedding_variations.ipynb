{
 "cells": [
  {
   "cell_type": "markdown",
   "metadata": {
    "slideshow": {
     "slide_type": "slide"
    }
   },
   "source": [
    "How do we embed words that have multiple meanings?\n",
    "-------\n",
    "\n",
    "<center><img src=\"https://media.buzzle.com/media/images-en/illustrations/conceptual/1200-170047-last-name-meanings.jpg\" width=\"650\"/></center>\n",
    "\n",
    "\"bank\" is related to both money and rivers\n",
    "\n",
    "\"smith\" could be a person or a verb."
   ]
  },
  {
   "cell_type": "markdown",
   "metadata": {
    "slideshow": {
     "slide_type": "slide"
    }
   },
   "source": [
    "Nominal Determinism\n",
    "----\n",
    "\n",
    "<center><img src=\"https://img.buzzfeed.com/buzzfeed-static/static/2014-04/enhanced/webdr06/30/6/enhanced-buzz-6737-1398855324-5.jpg?downsize=715:*&output-format=auto&output-quality=auto\" width=\"700\"/></center>\n",
    "\n",
    "\"Brian\" used to study the \"brain\" 🧠\n",
    "\n",
    "[More like this](https://www.buzzfeed.com/robinedds/genius-examples-of-nominative-determinism?utm_term=.dy4xGOqerJ#.saYNODyWR2)"
   ]
  },
  {
   "cell_type": "markdown",
   "metadata": {
    "slideshow": {
     "slide_type": "slide"
    }
   },
   "source": [
    "The straight-forward solution is to just have mutliple entries: `bank__related_to_money` and `burns__related_to_river`.\n",
    "\n",
    "Another common step is add a ^ to proper nouns: `apple` is the fruite `^apple` is the company\n",
    "\n",
    "NOTE: Every token is lowercased for normalization. `__` to separate from collocations like `san_francisco`\n",
    "\n",
    "Thus needs Part of Speech (POS) or Named Entity Recognition (NER).\n",
    "\n",
    "https://demos.explosion.ai/sense2vec/"
   ]
  },
  {
   "cell_type": "markdown",
   "metadata": {
    "collapsed": true,
    "slideshow": {
     "slide_type": "slide"
    }
   },
   "source": [
    "<br>"
   ]
  }
 ],
 "metadata": {
  "celltoolbar": "Slideshow",
  "kernelspec": {
   "display_name": "Python 3",
   "language": "python",
   "name": "python3"
  },
  "language_info": {
   "codemirror_mode": {
    "name": "ipython",
    "version": 3
   },
   "file_extension": ".py",
   "mimetype": "text/x-python",
   "name": "python",
   "nbconvert_exporter": "python",
   "pygments_lexer": "ipython3",
   "version": "3.6.5"
  }
 },
 "nbformat": 4,
 "nbformat_minor": 1
}
