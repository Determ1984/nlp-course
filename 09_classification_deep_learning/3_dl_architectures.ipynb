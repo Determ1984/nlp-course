{
 "cells": [
  {
   "cell_type": "markdown",
   "metadata": {
    "slideshow": {
     "slide_type": "slide"
    }
   },
   "source": [
    "Deep Learning Architectures\n",
    "------"
   ]
  },
  {
   "cell_type": "markdown",
   "metadata": {
    "slideshow": {
     "slide_type": "slide"
    }
   },
   "source": [
    "By The End Of This Session You Should Be Able To:\n",
    "----\n",
    "\n",
    "1. Explain the difference between\n",
    "    1. Multi Layer Perception (MLP)\n",
    "    2. Convolutional Neural Network (CNN)\n",
    "    3. Recurrent Neural Network (RNN)\n",
    "    4. Long Short Term Memory (LSTM"
   ]
  },
  {
   "cell_type": "markdown",
   "metadata": {
    "slideshow": {
     "slide_type": "slide"
    }
   },
   "source": [
    "Multi Layer Perception (MLP)\n",
    "------\n",
    "\n",
    "<center><img src=\"https://tse3.mm.bing.net/th?id=OIP.9lwcH5_bp8_2VNRyp0r6swHaJT&pid=Api\" width=\"45%\"/></center>"
   ]
  },
  {
   "cell_type": "markdown",
   "metadata": {
    "slideshow": {
     "slide_type": "slide"
    }
   },
   "source": [
    "Convolutional Neural Network (CNN)\n",
    "--------\n",
    "\n",
    "<center><img src=\"https://i.stack.imgur.com/ZgG1Z.png\" width=\"45%\"/></center>"
   ]
  },
  {
   "cell_type": "markdown",
   "metadata": {
    "slideshow": {
     "slide_type": "slide"
    }
   },
   "source": [
    "<center><img src=\"https://image.slidesharecdn.com/2010deeplearningandunsupervisedfeaturelearning-150929135052-lva1-app6891/95/2010-deep-learning-and-unsupervised-feature-learning-44-638.jpg?cb=1443534766\" width=\"45%\"/></center>"
   ]
  },
  {
   "cell_type": "markdown",
   "metadata": {
    "format": "row",
    "slideshow": {
     "slide_type": "slide"
    }
   },
   "source": [
    "Recurrent Neural Network (RNN)\n",
    "-----\n",
    "\n",
    "<center><img src=\"https://leonardoaraujosantos.gitbooks.io/artificial-inteligence/content/image_folder_6/recurrent.jpg\" width=\"45%\"/></center>"
   ]
  },
  {
   "cell_type": "markdown",
   "metadata": {
    "slideshow": {
     "slide_type": "slide"
    }
   },
   "source": [
    "Recurrent Neural Network (RNN)\n",
    "-----\n",
    "\n",
    "<center><img src=\"images/rnn.png\" width=\"45%\"/></center>"
   ]
  },
  {
   "cell_type": "markdown",
   "metadata": {
    "slideshow": {
     "slide_type": "slide"
    }
   },
   "source": [
    "RNN unrolled\n",
    "------\n",
    "\n",
    "<center><img src=\"images/rnn_lines.png\" width=\"45%\"/></center>"
   ]
  },
  {
   "cell_type": "markdown",
   "metadata": {
    "slideshow": {
     "slide_type": "slide"
    }
   },
   "source": [
    "RNN modeling sequences\n",
    "------\n",
    "<center><img src=\"https://i.imgur.com/kpZBDfV.gif\" width=\"45%\"/></center>"
   ]
  },
  {
   "cell_type": "markdown",
   "metadata": {
    "slideshow": {
     "slide_type": "slide"
    }
   },
   "source": [
    "What tasks are a recurrent neural network (RNN)  useful for?\n",
    "----\n",
    "\n",
    "<center><img src=\"images/rnn.png\" width=\"45%\"/></center>\n",
    "\n",
    "Recognizing patterns in data sequences"
   ]
  },
  {
   "cell_type": "markdown",
   "metadata": {
    "slideshow": {
     "slide_type": "slide"
    }
   },
   "source": [
    "Bidirectional RNN\n",
    "------\n",
    "\n",
    "<center><img src=\"images/bi.png\" width=\"45%\"/></center>\n",
    "\n",
    "2 RNNs going into different directions\n",
    "\n",
    "The forward RNN reads the input sequence from start to end,\n",
    "while the backward RNN reads it from end to start. "
   ]
  },
  {
   "cell_type": "markdown",
   "metadata": {
    "slideshow": {
     "slide_type": "skip"
    }
   },
   "source": [
    "The two RNNs are stacked on top of each others and their states are typically combined by appending the two vectors. \n",
    "\n",
    "Bidirectional RNNs are often used in Natural Language problems, where we want to take the context from both before and after a word into account before making a prediction."
   ]
  },
  {
   "cell_type": "markdown",
   "metadata": {
    "slideshow": {
     "slide_type": "slide"
    }
   },
   "source": [
    "Long Short-Term Memory networks (LSTM)\n",
    "-----\n",
    "<center><img src=\"https://s-media-cache-ak0.pinimg.com/564x/60/51/53/60515323dd5f0961816bb062b0db11fc.jpg\" width=\"45%\"/></center>"
   ]
  },
  {
   "cell_type": "markdown",
   "metadata": {
    "slideshow": {
     "slide_type": "slide"
    }
   },
   "source": [
    "What is a Long Short-Term Memory (LSTM) network?\n",
    "----\n",
    "\n",
    "A RNN plus memory!"
   ]
  },
  {
   "cell_type": "markdown",
   "metadata": {
    "slideshow": {
     "slide_type": "slide"
    }
   },
   "source": [
    "How does LSTM to handle long-term dependencies?\n",
    "--------\n",
    "\n",
    "LSTMs contain information outside the normal flow of the RNN in a __gated cell__. "
   ]
  },
  {
   "cell_type": "markdown",
   "metadata": {
    "slideshow": {
     "slide_type": "slide"
    }
   },
   "source": [
    "Gated cell for remembering and forgeting\n",
    "----\n",
    "\n",
    "<center><img src=\"images/lstm_node_labelded.png\" width=\"45%\"/></center>"
   ]
  },
  {
   "cell_type": "markdown",
   "metadata": {
    "slideshow": {
     "slide_type": "slide"
    }
   },
   "source": [
    "LSTM memory node\n",
    "-----\n",
    "\n",
    "<center><img src=\"https://deeplearning4j.org/img/gers_lstm.png\" width=\"45%\"/></center>"
   ]
  },
  {
   "cell_type": "markdown",
   "metadata": {
    "slideshow": {
     "slide_type": "slide"
    }
   },
   "source": [
    "Challenge Question\n",
    "------\n",
    "\n",
    "When would a RNN perform better than LSTM?"
   ]
  },
  {
   "cell_type": "markdown",
   "metadata": {
    "slideshow": {
     "slide_type": "fragment"
    }
   },
   "source": [
    "<center><img src=\"https://i.ytimg.com/vi/kMMbW96nMW8/maxresdefault.jpg\" width=\"45%\"/></center>\n",
    "\n",
    "Self Driving Car - only needs short term state"
   ]
  },
  {
   "cell_type": "markdown",
   "metadata": {
    "slideshow": {
     "slide_type": "slide"
    }
   },
   "source": [
    "Summary\n",
    "-------\n",
    "\n",
    "- There common Deep Learning architectures:\n",
    "    - CNN - Learn a series of spatial filters\n",
    "    - RNN - Learn the state of the data over time\n",
    "    - LSTM - Remember and forget important data over time\n",
    "- Each architecture are useful for different tasks\n",
    "    - CNN - Find spatial patterns\n",
    "    - RNN - Find sequential patterns\n",
    "    - LSTM - RNN with long term dependencies"
   ]
  },
  {
   "cell_type": "markdown",
   "metadata": {
    "slideshow": {
     "slide_type": "slide"
    }
   },
   "source": [
    "<br>\n"
   ]
  }
 ],
 "metadata": {
  "celltoolbar": "Slideshow",
  "kernelspec": {
   "display_name": "Python 3",
   "language": "python",
   "name": "python3"
  },
  "language_info": {
   "codemirror_mode": {
    "name": "ipython",
    "version": 3
   },
   "file_extension": ".py",
   "mimetype": "text/x-python",
   "name": "python",
   "nbconvert_exporter": "python",
   "pygments_lexer": "ipython3",
   "version": "3.6.5"
  }
 },
 "nbformat": 4,
 "nbformat_minor": 2
}
