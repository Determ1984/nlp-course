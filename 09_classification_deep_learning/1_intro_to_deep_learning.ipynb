{
 "cells": [
  {
   "cell_type": "markdown",
   "metadata": {
    "slideshow": {
     "slide_type": "slide"
    }
   },
   "source": [
    "Introduction to Deep Learning\n",
    "-----\n",
    "\n",
    "<center><img src=\"images/neural_nets.jpg\" width=\"50%\"/></center>"
   ]
  },
  {
   "cell_type": "markdown",
   "metadata": {
    "slideshow": {
     "slide_type": "slide"
    }
   },
   "source": [
    "By The End Of This Session You Should Be Able To:\n",
    "----\n",
    "\n",
    "- Define Deep Learning\n",
    "- Explain why Deep Learning is useful \n",
    "- List the reasons why Deep Learning is now popular"
   ]
  },
  {
   "cell_type": "markdown",
   "metadata": {
    "slideshow": {
     "slide_type": "slide"
    }
   },
   "source": [
    "What is Deep Learning?\n",
    "------"
   ]
  },
  {
   "cell_type": "markdown",
   "metadata": {
    "slideshow": {
     "slide_type": "fragment"
    }
   },
   "source": [
    "<center><img src=\"images/deep_learning.png\" width=\"40%\"/></center>"
   ]
  },
  {
   "cell_type": "code",
   "execution_count": 1,
   "metadata": {
    "slideshow": {
     "slide_type": "slide"
    }
   },
   "outputs": [],
   "source": [
    "from tensorflow import *"
   ]
  },
  {
   "cell_type": "markdown",
   "metadata": {
    "slideshow": {
     "slide_type": "slide"
    }
   },
   "source": [
    "Deep Learning (DL): Neural networks (NN) with >1 hidden layer\n",
    "-------\n",
    "\n",
    "<center><img src=\"http://www.kdnuggets.com/wp-content/uploads/neural-networks-layers.jpg\" width=\"40%\"/></center>"
   ]
  },
  {
   "cell_type": "markdown",
   "metadata": {
    "slideshow": {
     "slide_type": "slide"
    }
   },
   "source": [
    "What is \"Shallow\" Learning?\n",
    "------\n",
    "\n",
    "<center><img src=\"https://upload.wikimedia.org/wikipedia/commons/thumb/e/e4/Artificial_neural_network.svg/400px-Artificial_neural_network.svg.png\" width=\"40%\"/></center>\n",
    "\n",
    "\"Shallow\" Learning has just a single hidden layer.  "
   ]
  },
  {
   "cell_type": "markdown",
   "metadata": {
    "slideshow": {
     "slide_type": "slide"
    }
   },
   "source": [
    "<center><img src=\"images/hidden_layer.png\" width=\"40%\"/></center>"
   ]
  },
  {
   "cell_type": "markdown",
   "metadata": {
    "slideshow": {
     "slide_type": "slide"
    }
   },
   "source": [
    "Why is DL a powerful Machine Learning technique?\n",
    "-----"
   ]
  },
  {
   "cell_type": "markdown",
   "metadata": {
    "slideshow": {
     "slide_type": "fragment"
    }
   },
   "source": [
    "<center><img src=\"http://cs231n.github.io/assets/nn1/layer_sizes.jpeg\" width=\"40%\"/></center>\n",
    "\n",
    "__Using hidden nodes, Neural networks (NN) can learn nonlinear relationships__\n",
    "\n",
    "DL are just very big, very deep NN."
   ]
  },
  {
   "cell_type": "markdown",
   "metadata": {
    "slideshow": {
     "slide_type": "slide"
    }
   },
   "source": [
    "Each additional layer learns a combination of previous layers\n",
    "-------\n",
    "\n",
    "<center><img src=\"images/features.png\" width=\"40%\"/></center>"
   ]
  },
  {
   "cell_type": "markdown",
   "metadata": {
    "slideshow": {
     "slide_type": "slide"
    }
   },
   "source": [
    "Deep Learning isn't magic, it is just very good at finding patterns.\n",
    "------\n",
    "\n",
    "<center><img src=\"images/layers.png\" width=\"40%\"/></center>"
   ]
  },
  {
   "cell_type": "markdown",
   "metadata": {
    "slideshow": {
     "slide_type": "slide"
    }
   },
   "source": [
    "DL can learn multiple levels of abstraction in all domains\n",
    "-----\n",
    "<center><img src=\"images/levels.png\" width=\"40%\"/></center>"
   ]
  },
  {
   "cell_type": "markdown",
   "metadata": {
    "slideshow": {
     "slide_type": "slide"
    }
   },
   "source": [
    "Why are DL distributed representations powerful?\n",
    "-------"
   ]
  },
  {
   "cell_type": "markdown",
   "metadata": {
    "slideshow": {
     "slide_type": "fragment"
    }
   },
   "source": [
    "<center><img src=\"images/reps.png\" width=\"50%\"/></center>\n",
    "\n",
    "It learns not mutually exclusive features that can be combine in any way.\n",
    "\n",
    "A DL is actually overlapping combination of smaller NN."
   ]
  },
  {
   "cell_type": "markdown",
   "metadata": {
    "slideshow": {
     "slide_type": "slide"
    }
   },
   "source": [
    "DL's killer app: Teach computers to perceive the world\n",
    "-----\n",
    "<center><img src=\"https://devblogs.nvidia.com/parallelforall/wp-content/uploads/2015/08/DL_dog_340x340-300x300.jpg\" width=\"40%\"/></center>\n",
    "\n"
   ]
  },
  {
   "cell_type": "markdown",
   "metadata": {
    "slideshow": {
     "slide_type": "slide"
    }
   },
   "source": [
    "\n",
    "What Deep Learning applications are you most excited about?\n",
    "-------"
   ]
  },
  {
   "cell_type": "markdown",
   "metadata": {
    "slideshow": {
     "slide_type": "slide"
    }
   },
   "source": [
    "<center><img src=\"https://www.techexplorist.com/wp-content/uploads/2018/05/Google_duplex_end_to_end_big-696x464.jpg\" width=\"80%\"/></center>"
   ]
  },
  {
   "cell_type": "markdown",
   "metadata": {
    "slideshow": {
     "slide_type": "slide"
    }
   },
   "source": [
    "<center><img src=\"https://spectrum.ieee.org/image/MjgzODI0Mg.jpeg\" width=\"40%\"/></center>"
   ]
  },
  {
   "cell_type": "markdown",
   "metadata": {
    "slideshow": {
     "slide_type": "skip"
    }
   },
   "source": [
    "[Deep Learning Reinvents the Hearing Aid](http://spectrum.ieee.org/consumer-electronics/audiovideo/deep-learning-reinvents-the-hearing-aid)"
   ]
  },
  {
   "cell_type": "markdown",
   "metadata": {
    "slideshow": {
     "slide_type": "slide"
    }
   },
   "source": [
    "\"Everything gets better (smarter) the more you use it\"\n",
    "------\n",
    "\n",
    "- \"Smart reply\" everywhere\n",
    "- Self-driving cars\n",
    "- Interpreter & compiler that get better the more you use them\n",
    "- OS that get better the more you use them"
   ]
  },
  {
   "cell_type": "markdown",
   "metadata": {
    "slideshow": {
     "slide_type": "skip"
    }
   },
   "source": [
    "[Next wave deep learning applications](https://www.nextplatform.com/2016/09/14/next-wave-deep-learning-applications/)"
   ]
  },
  {
   "cell_type": "markdown",
   "metadata": {
    "slideshow": {
     "slide_type": "slide"
    }
   },
   "source": [
    "What is the relationship between Artificial Intelligence, Machine Learning, and Deep Learning?\n",
    "-------"
   ]
  },
  {
   "cell_type": "markdown",
   "metadata": {
    "slideshow": {
     "slide_type": "slide"
    }
   },
   "source": [
    "<center><img src=\"https://www.bing.com/th?id=OIP.GDp24Tu2sZu1khv0YXTligHaHX&pid=Api\" width=\"40%\"/></center>\n",
    "\n",
    "Deep Learning is __not__ the only Artificial Intelligence algorithm, but is currently the most useful."
   ]
  },
  {
   "cell_type": "markdown",
   "metadata": {
    "slideshow": {
     "slide_type": "slide"
    }
   },
   "source": [
    "Why Deep Learning (DL) \"eating\" traditional Machine Learning (ML)?\n",
    "----\n",
    "\n",
    "By traditional ML, I mean Linear Regression, Naive Bayes, K-means Clustering, and friends."
   ]
  },
  {
   "cell_type": "markdown",
   "metadata": {
    "slideshow": {
     "slide_type": "fragment"
    }
   },
   "source": [
    "1. DL has fewer steps\n",
    "1. DL gets better with more data\n",
    "2. DL can make finer-grained predictions\n",
    "3. DL is better at generalization "
   ]
  },
  {
   "cell_type": "markdown",
   "metadata": {
    "slideshow": {
     "slide_type": "slide"
    }
   },
   "source": [
    "DL has fewer steps\n",
    "------\n",
    "\n",
    "<center><img src=\"http://adilmoujahid.com/images/traditional-ml-deep-learning-2.png\" width=\"100%\"/></center>"
   ]
  },
  {
   "cell_type": "markdown",
   "metadata": {
    "slideshow": {
     "slide_type": "skip"
    }
   },
   "source": [
    "Source: http://adilmoujahid.com/posts/2016/06/introduction-deep-learning-python-caffe/"
   ]
  },
  {
   "cell_type": "markdown",
   "metadata": {
    "slideshow": {
     "slide_type": "slide"
    }
   },
   "source": [
    "DL gets better with more data\n",
    "------\n",
    "\n",
    "<center><img src=\"images/data.jpg\" width=\"40%\"/></center>"
   ]
  },
  {
   "cell_type": "markdown",
   "metadata": {
    "slideshow": {
     "slide_type": "slide"
    }
   },
   "source": [
    "Deep Learning has the ability for nunanced prediction\n",
    "----\n",
    "\n",
    "<center><img src=\"images/prediction.png\" width=\"100%\"/></center>"
   ]
  },
  {
   "cell_type": "markdown",
   "metadata": {
    "slideshow": {
     "slide_type": "slide"
    }
   },
   "source": [
    "However… <br> When solving problems start with traditional ML\n",
    "-----\n",
    "\n",
    "<center><img src=\"images/linear_regression.png\" width=\"40%\"/></center>"
   ]
  },
  {
   "cell_type": "markdown",
   "metadata": {
    "slideshow": {
     "slide_type": "slide"
    }
   },
   "source": [
    "Why Deep Learning now?\n",
    "------"
   ]
  },
  {
   "cell_type": "markdown",
   "metadata": {
    "slideshow": {
     "slide_type": "fragment"
    }
   },
   "source": [
    "1) Big compute"
   ]
  },
  {
   "cell_type": "markdown",
   "metadata": {
    "collapsed": true,
    "slideshow": {
     "slide_type": "fragment"
    }
   },
   "source": [
    "2) Big data"
   ]
  },
  {
   "cell_type": "markdown",
   "metadata": {
    "slideshow": {
     "slide_type": "fragment"
    }
   },
   "source": [
    "3) Big model"
   ]
  },
  {
   "cell_type": "markdown",
   "metadata": {
    "slideshow": {
     "slide_type": "skip"
    }
   },
   "source": [
    "Source: https://www.slideshare.net/AIFrontiers/jeff-dean-trends-and-developments-in-deep-learning-research"
   ]
  },
  {
   "cell_type": "markdown",
   "metadata": {
    "slideshow": {
     "slide_type": "slide"
    }
   },
   "source": [
    "<center><img src=\"images/1.png\" width=\"40%\"/></center>"
   ]
  },
  {
   "cell_type": "markdown",
   "metadata": {
    "slideshow": {
     "slide_type": "slide"
    }
   },
   "source": [
    "<center><img src=\"images/2.png\" width=\"40%\"/></center>"
   ]
  },
  {
   "cell_type": "markdown",
   "metadata": {
    "slideshow": {
     "slide_type": "slide"
    }
   },
   "source": [
    "<center><img src=\"images/3.png\" width=\"40%\"/></center>"
   ]
  },
  {
   "cell_type": "markdown",
   "metadata": {
    "slideshow": {
     "slide_type": "skip"
    }
   },
   "source": [
    "[Source](http://ai.stanford.edu/~zayd/why-is-machine-learning-hard.html)"
   ]
  },
  {
   "cell_type": "markdown",
   "metadata": {
    "slideshow": {
     "slide_type": "slide"
    }
   },
   "source": [
    "Summary\n",
    "----\n",
    "\n",
    "- Deep Learning (DL) is eating machine learning and software engineering.\n",
    "- DL is currently the only \"practical and scalable\" artificial intelligence algorithm.\n",
    "- DL is a neural network with > 1 hidden layer.\n",
    "- DL learns different representations through the many layers.\n",
    "- DL is now possible because of __big__ models, data, and compute."
   ]
  },
  {
   "cell_type": "markdown",
   "metadata": {
    "slideshow": {
     "slide_type": "slide"
    }
   },
   "source": [
    "<br>\n",
    "<br>\n",
    "--"
   ]
  }
 ],
 "metadata": {
  "anaconda-cloud": {},
  "celltoolbar": "Slideshow",
  "kernelspec": {
   "display_name": "Python 3",
   "language": "python",
   "name": "python3"
  },
  "language_info": {
   "codemirror_mode": {
    "name": "ipython",
    "version": 3
   },
   "file_extension": ".py",
   "mimetype": "text/x-python",
   "name": "python",
   "nbconvert_exporter": "python",
   "pygments_lexer": "ipython3",
   "version": "3.6.5"
  }
 },
 "nbformat": 4,
 "nbformat_minor": 1
}
