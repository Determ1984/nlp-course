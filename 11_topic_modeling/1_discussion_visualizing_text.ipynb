{
 "cells": [
  {
   "cell_type": "markdown",
   "metadata": {
    "slideshow": {
     "slide_type": "slide"
    }
   },
   "source": [
    "What kind of visualizations can help us understand text?\n",
    "-----\n",
    "<br>\n",
    "<center><img src=\"images/lda.png\" width=\"100%\"/></center>"
   ]
  },
  {
   "cell_type": "markdown",
   "metadata": {
    "slideshow": {
     "slide_type": "slide"
    }
   },
   "source": [
    "Word Cloud:\n",
    "----\n",
    "<center><img src=\"https://tse4.mm.bing.net/th?id=OIP.fHMNbnFiuq3wlQxCsTlwjwHaFW&pid=Api\" width=\"80%\"/></center>"
   ]
  },
  {
   "cell_type": "markdown",
   "metadata": {
    "slideshow": {
     "slide_type": "slide"
    }
   },
   "source": [
    "Chord Diagram:\n",
    "-----\n",
    "<br>\n",
    "<center><img src=\"http://dig-eh.org/files/2014/07/circ_disciplines-700x386.png\" width=\"1000\"/></center>"
   ]
  },
  {
   "cell_type": "markdown",
   "metadata": {
    "slideshow": {
     "slide_type": "slide"
    }
   },
   "source": [
    "pyLDAvis\n",
    "-----\n",
    "\n",
    "<center><img src=\"https://shuaiw.github.io/assets/topic-modeling-and-tsne-visualization/pyldavis.png\" width=\"45%\"/></center>\n",
    "\n",
    "[Demo](http://nbviewer.jupyter.org/github/bmabey/hacker_news_topic_modelling/blob/master/HN%20Topic%20Model%20Talk.ipynb)"
   ]
  },
  {
   "cell_type": "markdown",
   "metadata": {
    "slideshow": {
     "slide_type": "skip"
    }
   },
   "source": [
    "[Source](https://github.com/bmabey/pyLDAvis)"
   ]
  },
  {
   "cell_type": "markdown",
   "metadata": {
    "slideshow": {
     "slide_type": "slide"
    }
   },
   "source": [
    "Termite Plot\n",
    "------\n",
    "<br>\n",
    "<center><img src=\"http://vis.stanford.edu/images/figures/termite.png\" width=\"55%\"/></center>"
   ]
  },
  {
   "cell_type": "markdown",
   "metadata": {
    "slideshow": {
     "slide_type": "slide"
    }
   },
   "source": [
    "What is wrong with this vizualization? <br> <br> How could we improve it?\n",
    "------\n",
    "\n",
    "<center><img src=\"http://www.lisarhody.com/wp-content/uploads/2012/09/Ekphrasis_network_grouped_topic3.jpg\" width=\"45%\"/></center>"
   ]
  },
  {
   "cell_type": "markdown",
   "metadata": {
    "slideshow": {
     "slide_type": "slide"
    }
   },
   "source": [
    "More ideas \n",
    "--------\n",
    "\n",
    "[Data Shader](https://github.com/bokeh/datashader)\n",
    "\n",
    "[A gallery of text viz](http://textvis.lnu.se/](http://textvis.lnu.se/)"
   ]
  },
  {
   "cell_type": "markdown",
   "metadata": {
    "slideshow": {
     "slide_type": "slide"
    }
   },
   "source": [
    "<br>\n",
    "<br>\n",
    "---"
   ]
  }
 ],
 "metadata": {
  "celltoolbar": "Slideshow",
  "kernelspec": {
   "display_name": "Python 3",
   "language": "python",
   "name": "python3"
  },
  "language_info": {
   "codemirror_mode": {
    "name": "ipython",
    "version": 3
   },
   "file_extension": ".py",
   "mimetype": "text/x-python",
   "name": "python",
   "nbconvert_exporter": "python",
   "pygments_lexer": "ipython3",
   "version": "3.6.5"
  }
 },
 "nbformat": 4,
 "nbformat_minor": 1
}
