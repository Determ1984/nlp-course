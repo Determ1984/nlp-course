{
 "cells": [
  {
   "cell_type": "markdown",
   "metadata": {
    "slideshow": {
     "slide_type": "slide"
    }
   },
   "source": [
    "The Future of NLP (according to Brian)\n",
    "------\n",
    "<center><img src=\"http://www.nickrobinson.org/wp-content/uploads/2015/05/william_ford_gibson.jpg\" width=\"70%\"/></center>"
   ]
  },
  {
   "cell_type": "markdown",
   "metadata": {
    "slideshow": {
     "slide_type": "slide"
    }
   },
   "source": [
    "By The End Of This Session You Should Be Able To:\n",
    "----\n",
    "\n",
    "- Explain how matrices can be extended with tensors\n",
    "- Promise and limitations of NLP in the near term"
   ]
  },
  {
   "cell_type": "markdown",
   "metadata": {
    "slideshow": {
     "slide_type": "slide"
    }
   },
   "source": [
    "What the hell is a tensor?\n",
    "---\n",
    "\n",
    "A tensor is a n-dimensional array.\n",
    "\n",
    "<center><img src=\"https://hadrienj.github.io/assets/images/2.1/scalar-vector-matrix-tensor.png\" width=\"75%\"/></center>"
   ]
  },
  {
   "cell_type": "markdown",
   "metadata": {
    "slideshow": {
     "slide_type": "slide"
    }
   },
   "source": [
    "Tensors require a new vocabulary\n",
    "--------\n",
    "<center><img src=\"images/higher_order.png\" width=\"75%\"/></center>"
   ]
  },
  {
   "cell_type": "markdown",
   "metadata": {
    "slideshow": {
     "slide_type": "slide"
    }
   },
   "source": [
    "Why tensors for NLP?\n",
    "---"
   ]
  },
  {
   "cell_type": "markdown",
   "metadata": {
    "slideshow": {
     "slide_type": "fragment"
    }
   },
   "source": [
    "Tensors can model higher-order relationships. "
   ]
  },
  {
   "cell_type": "markdown",
   "metadata": {
    "slideshow": {
     "slide_type": "slide"
    }
   },
   "source": [
    "Collaborative Filtering (with meta-data)\n",
    "------\n",
    "\n",
    "<center><img src=\"images/relationships.png\" width=\"80%\"/></center>\n",
    "\n",
    "Users, items and __tags__"
   ]
  },
  {
   "cell_type": "markdown",
   "metadata": {
    "slideshow": {
     "slide_type": "skip"
    }
   },
   "source": [
    "[Source](http://dl.acm.org/citation.cfm?id=1454017)"
   ]
  },
  {
   "cell_type": "markdown",
   "metadata": {
    "slideshow": {
     "slide_type": "slide"
    }
   },
   "source": [
    "NLP: Beyond document-term matrix\n",
    "-----\n",
    "<center><img src=\"images/nlp_t.png\" width=\"75%\"/></center>\n",
    "\n",
    "If you want to only represent pair-wise relationships (e.g., document-term), then use a matrix. \n",
    "\n",
    "On the other hand, if you want to respresent more complex relationship (e.g., document-term-year-author), then use a tensor"
   ]
  },
  {
   "cell_type": "markdown",
   "metadata": {
    "slideshow": {
     "slide_type": "skip"
    }
   },
   "source": [
    "[Source](http://www.sandia.gov/~tgkolda/pubs/pubfiles/SAND2006-2079.pdf)"
   ]
  },
  {
   "cell_type": "markdown",
   "metadata": {
    "slideshow": {
     "slide_type": "slide"
    }
   },
   "source": [
    "Tensors: The way of the future\n",
    "----\n",
    "\n",
    "The Data Science community is just starting to develop the wide-spread knowledge base, language, and tools to handle tensors.\n",
    "\n",
    "[xarray: ndarry on steroids](http://xarray.pydata.org/en/stable/)"
   ]
  },
  {
   "cell_type": "markdown",
   "metadata": {
    "slideshow": {
     "slide_type": "slide"
    }
   },
   "source": [
    "Check for understanding\n",
    "-----\n",
    "\n",
    "What is the difference between an array and tabular data?"
   ]
  },
  {
   "cell_type": "markdown",
   "metadata": {
    "slideshow": {
     "slide_type": "slide"
    }
   },
   "source": [
    "Each array only contains the same type of data.\n",
    "\n",
    "Tabular data can contain mixed types (categorical and numeric)."
   ]
  },
  {
   "cell_type": "markdown",
   "metadata": {
    "slideshow": {
     "slide_type": "skip"
    }
   },
   "source": [
    "Further study\n",
    "---\n",
    "\n",
    "- \"Tensor Methods - A New Paradigm for Training Probabilistic Models, Neural Networks and Reinforcement Learning\"\n",
    "    - https://www.youtube.com/watch?v=YpnlAQTY1Mc\n",
    "    - http://www.slideshare.net/SessionsEvents/animashree-anandkumar-electrical-engineering-and-cs-dept-uc-irvine-at-mlconf-sf-111315\n",
    "- http://www.cs.cmu.edu/~christos/TALKS/SIGMOD-07-tutorial/tensor3.pdf\n",
    "- ftp://ftp.esat.kuleuven.be/pub/SISTA/ida/reports/97-75.pdf\n",
    "- http://www.sandia.gov/~tgkolda/pubs/pubfiles/SAND2007-6702.pdf\n",
    "- http://www.chemometrics.ru/materials/presentations/wsc6/T09.pdf\n",
    "- https://en.wikipedia.org/wiki/Tensor_rank_decomposition"
   ]
  },
  {
   "cell_type": "markdown",
   "metadata": {
    "slideshow": {
     "slide_type": "slide"
    }
   },
   "source": [
    "NL is a great UI (User Interface)\n",
    "---\n",
    "\n",
    "<center><img src=\"http://static.boredpanda.com/blog/wp-content/uploads/2015/11/poor-design-decisions-481__605.jpg\" width=\"75%\"/></center>\n",
    "\n",
    "Design is important"
   ]
  },
  {
   "cell_type": "markdown",
   "metadata": {
    "slideshow": {
     "slide_type": "skip"
    }
   },
   "source": [
    "\n",
    "We use NL every day to communicate with each other. In the future, we'll use it to communicate more and more with computers. It is artificial that we have to type and use screens. UI will evolve to become transparent. NLP will be a force multiplier for that transition\n",
    "\n",
    "As an intermediate step chat interface. It is silly that there are some many apps. I predict in the future. There will be meta-apps. That are AI chatbots that will give you information and do things for you."
   ]
  },
  {
   "cell_type": "markdown",
   "metadata": {
    "slideshow": {
     "slide_type": "slide"
    }
   },
   "source": [
    "What is the core problem in Deep Learning that needs a solution?\n",
    "-----\n",
    "\n",
    "<center><img src=\"https://cdn-images-1.medium.com/max/600/1*wUZiI2Mg2cncuMWWXIiBgQ.png\" width=\"25%\"/></center>\n",
    "\n",
    "Represent \"common sense\""
   ]
  },
  {
   "cell_type": "markdown",
   "metadata": {
    "slideshow": {
     "slide_type": "slide"
    }
   },
   "source": [
    "NLP suffers from the \"news\"  problem\n",
    "-----\n",
    "\n",
    "<center><img src=\"http://www.azquotes.com/picture-quotes/quote-problems-are-the-price-of-progress-don-t-bring-me-anything-but-trouble-good-news-weakens-charles-kettering-15-68-99.jpg\" width=\"75%\"/></center>\n",
    "\n",
    "Right now the models can learn from data but have no notion of the \"real world\" fundamentals."
   ]
  },
  {
   "cell_type": "markdown",
   "metadata": {
    "slideshow": {
     "slide_type": "slide"
    }
   },
   "source": [
    "New NLP workflow: Assume Deep Learning, then build on top\n",
    "----\n",
    "\n",
    "1. Embed\n",
    "2. Encode\n",
    "3. Attend\n",
    "4. Predict"
   ]
  },
  {
   "cell_type": "markdown",
   "metadata": {
    "slideshow": {
     "slide_type": "skip"
    }
   },
   "source": [
    "[Source](https://explosion.ai/blog/deep-learning-formula-nlp)"
   ]
  },
  {
   "cell_type": "markdown",
   "metadata": {
    "slideshow": {
     "slide_type": "slide"
    }
   },
   "source": [
    "<center><img src=\"images/add.png\" width=\"75%\"/></center>"
   ]
  },
  {
   "cell_type": "markdown",
   "metadata": {
    "slideshow": {
     "slide_type": "slide"
    }
   },
   "source": [
    "### What NLP techniques/applications will we have 1 year, 5 years, and 10 years?\n",
    "\n",
    "### What limitations will have to be overcome to achieve those breakthroughs?"
   ]
  },
  {
   "cell_type": "markdown",
   "metadata": {
    "slideshow": {
     "slide_type": "slide"
    }
   },
   "source": [
    "Summary\n",
    "---\n",
    "\n",
    "- Tensors extend matrices to n-dimensions, thus can represent more complex relationships\n",
    "- NL as UI\n",
    "- Assume things will improve 1000x, then what?"
   ]
  },
  {
   "cell_type": "markdown",
   "metadata": {
    "slideshow": {
     "slide_type": "slide"
    }
   },
   "source": [
    "<br>\n",
    "<br> \n",
    "<br>\n",
    "\n",
    "----"
   ]
  },
  {
   "cell_type": "markdown",
   "metadata": {
    "slideshow": {
     "slide_type": "slide"
    }
   },
   "source": [
    "Reasons to be bullish on chat at UI \n",
    "-----\n",
    "\n",
    "- Chat is a common interface for many APIs / IoT (the Internet of Things)\n",
    "- Every user interaction is also a survey\n",
    "- UI is testable, while the surface area of a visual interface is almost untestable\n",
    "- The UI is a log file\n",
    "\n",
    "[Chat as UI 1](http://www.wired.com/2015/06/future-ui-design-old-school-text-messages/)  \n",
    "[Chat as UI 2](https://medium.com/@acroll/on-chat-as-interface-92a68d2bf854#.i9rhhfql3)"
   ]
  },
  {
   "cell_type": "markdown",
   "metadata": {
    "slideshow": {
     "slide_type": "slide"
    }
   },
   "source": [
    "<br>\n",
    "<br> \n",
    "<br>\n",
    "\n",
    "----"
   ]
  }
 ],
 "metadata": {
  "celltoolbar": "Slideshow",
  "kernelspec": {
   "display_name": "Python 3",
   "language": "python",
   "name": "python3"
  },
  "language_info": {
   "codemirror_mode": {
    "name": "ipython",
    "version": 3
   },
   "file_extension": ".py",
   "mimetype": "text/x-python",
   "name": "python",
   "nbconvert_exporter": "python",
   "pygments_lexer": "ipython3",
   "version": "3.6.5"
  }
 },
 "nbformat": 4,
 "nbformat_minor": 1
}
