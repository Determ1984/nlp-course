{
 "cells": [
  {
   "cell_type": "markdown",
   "metadata": {},
   "source": [
    "---\n",
    "Word Tagging, primarily part-of-speech\n",
    "----\n",
    "\n",
    "![](https://cdn.andertoons.com/img/toons/cartoon7026.png)"
   ]
  },
  {
   "cell_type": "markdown",
   "metadata": {},
   "source": [
    "Words fall into a small number of lexical categories, or parts of speech. \n",
    "\n",
    "These categories include nouns, verbs, adjectives, determiners, prepositions, and conjunctions. \n",
    "\n",
    "Though you’ve probably been exposed to these categories at various points, you may not have seen them all at once or remember exactly what they mean. \n",
    "\n",
    "Below is  a chart of the basic lexical categories, a definition, and an example"
   ]
  },
  {
   "cell_type": "markdown",
   "metadata": {},
   "source": [
    "Definitions and examples of commonly occurring lexical categories\n",
    "-----\n",
    "\n",
    "![](images/parts.png)\n",
    "\n",
    "Source: Taming Text, p18"
   ]
  },
  {
   "cell_type": "markdown",
   "metadata": {},
   "source": [
    "__Student Activity__: Given this setence, tag each word from these lexical categories\n",
    "\n",
    "<br>\n",
    "<details><summary>\n",
    "`The harry boy skipped quickly and tripped on the log.` <br>\n",
    "Click here for the solution…\n",
    "</summary>\n",
    "`Determiner adjective noun verb adverb conjunction verb preposition determiner noun.`\n",
    "</details>"
   ]
  },
  {
   "cell_type": "code",
   "execution_count": null,
   "metadata": {
    "collapsed": true
   },
   "outputs": [],
   "source": []
  },
  {
   "cell_type": "markdown",
   "metadata": {
    "collapsed": true
   },
   "source": [
    "----\n",
    "Definitions and examples of commonly occurring parts of speech\n",
    "-----\n",
    "\n",
    "![](images/tags.png)"
   ]
  },
  {
   "cell_type": "markdown",
   "metadata": {},
   "source": [
    "__Student Activity__: For each of these 5 groups, create your own example:\n",
    "\n",
    "| Tag | Example  |  \n",
    "|:-------:|:------:|\n",
    "| NN | school |\n",
    "| NNS | schools |  \n",
    "| NNS | USF |  \n",
    "| NNPS | UCs |  "
   ]
  },
  {
   "cell_type": "code",
   "execution_count": null,
   "metadata": {
    "collapsed": true
   },
   "outputs": [],
   "source": []
  },
  {
   "cell_type": "markdown",
   "metadata": {},
   "source": [
    "<br>\n",
    "<br> \n",
    "<br>\n",
    "\n",
    "----"
   ]
  }
 ],
 "metadata": {
  "kernelspec": {
   "display_name": "Python 3",
   "language": "python",
   "name": "python3"
  },
  "language_info": {
   "codemirror_mode": {
    "name": "ipython",
    "version": 3
   },
   "file_extension": ".py",
   "mimetype": "text/x-python",
   "name": "python",
   "nbconvert_exporter": "python",
   "pygments_lexer": "ipython3",
   "version": "3.6.5"
  }
 },
 "nbformat": 4,
 "nbformat_minor": 1
}
