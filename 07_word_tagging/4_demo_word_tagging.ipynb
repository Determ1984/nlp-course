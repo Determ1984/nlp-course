{
 "cells": [
  {
   "cell_type": "markdown",
   "metadata": {},
   "source": [
    "Part of Speech (POS) tagging \n",
    "-----\n",
    "\n",
    "![](https://nicholasdale.files.wordpress.com/2015/10/parts-of-speech.jpg)"
   ]
  },
  {
   "cell_type": "markdown",
   "metadata": {},
   "source": [
    "Overview\n",
    "-----\n",
    "\n",
    "- English tokens can be put into groups (aka, parts of speech)\n",
    "- \"Hard\" classification - each token only belongs to a single group\n",
    "- TextBlob is fast and good\n",
    "- nltk is slow and trainable\n",
    "- spaCy is fast and applied\n",
    "- Penn Treebank is a set of awful default labels"
   ]
  },
  {
   "cell_type": "markdown",
   "metadata": {},
   "source": [
    "----\n",
    "TextBlob\n",
    "----"
   ]
  },
  {
   "cell_type": "code",
   "execution_count": 1,
   "metadata": {},
   "outputs": [],
   "source": [
    "reset -fs"
   ]
  },
  {
   "cell_type": "code",
   "execution_count": 2,
   "metadata": {},
   "outputs": [],
   "source": [
    "from textblob import TextBlob"
   ]
  },
  {
   "cell_type": "code",
   "execution_count": 3,
   "metadata": {},
   "outputs": [
    {
     "name": "stdout",
     "output_type": "stream",
     "text": [
      "('I', 'PRP')\n",
      "(\"'ll\", 'MD')\n",
      "('be', 'VB')\n",
      "('back', 'RB')\n"
     ]
    }
   ],
   "source": [
    "print(*TextBlob(\"I'll be back.\").tags, sep=\"\\n\")"
   ]
  },
  {
   "cell_type": "code",
   "execution_count": 4,
   "metadata": {},
   "outputs": [
    {
     "data": {
      "text/plain": [
       "[('He', 'PRP'),\n",
       " ('is', 'VBZ'),\n",
       " ('a', 'DT'),\n",
       " ('tall', 'JJ'),\n",
       " ('skinny', 'NN'),\n",
       " ('guy', 'NN'),\n",
       " ('with', 'IN'),\n",
       " ('a', 'DT'),\n",
       " ('long', 'JJ'),\n",
       " ('sad', 'JJ'),\n",
       " ('mean-looking', 'JJ'),\n",
       " ('kisser', 'NN'),\n",
       " ('and', 'CC'),\n",
       " ('a', 'DT'),\n",
       " ('mournful', 'JJ'),\n",
       " ('voice', 'NN')]"
      ]
     },
     "execution_count": 4,
     "metadata": {},
     "output_type": "execute_result"
    }
   ],
   "source": [
    "TextBlob('He is a tall skinny guy with a long, sad, mean-looking kisser, and a mournful voice.').tags"
   ]
  },
  {
   "cell_type": "code",
   "execution_count": 5,
   "metadata": {},
   "outputs": [
    {
     "data": {
      "text/plain": [
       "[('If', 'IN'),\n",
       " ('only', 'RB'),\n",
       " ('Bradley', 'NNP'),\n",
       " (\"'s\", 'POS'),\n",
       " ('arm', 'NN'),\n",
       " ('was', 'VBD'),\n",
       " ('longer', 'RBR'),\n",
       " ('Best', 'NNP'),\n",
       " ('photo', 'NN'),\n",
       " ('ever', 'RB'),\n",
       " ('oscars', 'NNS')]"
      ]
     },
     "execution_count": 5,
     "metadata": {},
     "output_type": "execute_result"
    }
   ],
   "source": [
    "tweet = \"If only Bradley's arm was longer. Best photo ever. #oscars\"\n",
    "TextBlob(tweet).tags"
   ]
  },
  {
   "cell_type": "markdown",
   "metadata": {},
   "source": [
    "What happened to the hash tag?"
   ]
  },
  {
   "cell_type": "code",
   "execution_count": 34,
   "metadata": {},
   "outputs": [
    {
     "data": {
      "text/plain": [
       "[('If', 'IN'),\n",
       " ('only', 'RB'),\n",
       " ('Bradley', 'NNP'),\n",
       " (\"'s\", 'POS'),\n",
       " ('arm', 'NN'),\n",
       " ('was', 'VBD'),\n",
       " ('longer', 'RBR'),\n",
       " ('.', '.'),\n",
       " ('Best', 'JJS'),\n",
       " ('photo', 'NN'),\n",
       " ('ever', 'RB'),\n",
       " ('.', '.'),\n",
       " ('#', '#'),\n",
       " ('oscars', 'NNS')]"
      ]
     },
     "execution_count": 34,
     "metadata": {},
     "output_type": "execute_result"
    }
   ],
   "source": [
    "pos_tag(tokenize.word_tokenize(tweet))"
   ]
  },
  {
   "cell_type": "markdown",
   "metadata": {},
   "source": [
    "TextBlob\n",
    "------\n",
    "\n",
    "An OOP wrapper for the most applied parts of `nltk`\n",
    "\n",
    "Good for fast and dirty protoyping"
   ]
  },
  {
   "cell_type": "markdown",
   "metadata": {},
   "source": [
    "-----\n",
    "Check out nltk\n",
    "-----"
   ]
  },
  {
   "cell_type": "code",
   "execution_count": 35,
   "metadata": {},
   "outputs": [],
   "source": [
    "from nltk import tokenize, pos_tag"
   ]
  },
  {
   "cell_type": "code",
   "execution_count": 42,
   "metadata": {},
   "outputs": [],
   "source": [
    "phrase = \"I'll be back.\"\n",
    "tokens = tokenize.word_tokenize(tweet)"
   ]
  },
  {
   "cell_type": "code",
   "execution_count": 43,
   "metadata": {},
   "outputs": [
    {
     "data": {
      "text/plain": [
       "[('If', 'IN'),\n",
       " ('only', 'RB'),\n",
       " ('Bradley', 'NNP'),\n",
       " (\"'s\", 'POS'),\n",
       " ('arm', 'NN'),\n",
       " ('was', 'VBD'),\n",
       " ('longer', 'RBR'),\n",
       " ('.', '.'),\n",
       " ('Best', 'JJS'),\n",
       " ('photo', 'NN'),\n",
       " ('ever', 'RB'),\n",
       " ('.', '.'),\n",
       " ('#', '#'),\n",
       " ('oscars', 'NNS')]"
      ]
     },
     "execution_count": 43,
     "metadata": {},
     "output_type": "execute_result"
    }
   ],
   "source": [
    "print(*pos_tag(tokens), sep=\"\\n\")"
   ]
  },
  {
   "cell_type": "code",
   "execution_count": null,
   "metadata": {},
   "outputs": [],
   "source": [
    "('longer', 'RBR') # Adverb, comparative"
   ]
  },
  {
   "cell_type": "markdown",
   "metadata": {},
   "source": [
    "---\n",
    "Check out spaCy\n",
    "----\n",
    "\n",
    "spacy's has many Language Models (including other languages)\n",
    "\n",
    "I like `en_core_web_sm`\n",
    "\n",
    "https://spacy.io/models/en#en_core_web_sm"
   ]
  },
  {
   "cell_type": "code",
   "execution_count": 45,
   "metadata": {},
   "outputs": [],
   "source": [
    "import spacy"
   ]
  },
  {
   "cell_type": "code",
   "execution_count": 47,
   "metadata": {},
   "outputs": [],
   "source": [
    "try:\n",
    "    nlp = spacy.load('en_core_web_sm') # Get \"standard\" English model\n",
    "    tokens = nlp(tweet)\n",
    "except OSError:\n",
    "    import os\n",
    "    os.system(\"python -m spacy download en_core_web_sm\")\n",
    "    \n",
    "    nlp = spacy.load('en_core_web_sm')\n",
    "    tokens = nlp(tweet)"
   ]
  },
  {
   "cell_type": "code",
   "execution_count": 48,
   "metadata": {},
   "outputs": [
    {
     "name": "stdout",
     "output_type": "stream",
     "text": [
      "If\t|\tIN\n",
      "only\t|\tRB\n",
      "Bradley\t|\tNNP\n",
      "'s\t|\tPOS\n",
      "arm\t|\tNN\n",
      "was\t|\tVBD\n",
      "longer\t|\tJJR\n",
      ".\t|\t.\n",
      "Best\t|\tJJS\n",
      "photo\t|\tNN\n",
      "ever\t|\tRB\n",
      ".\t|\t.\n",
      "#\t|\tNN\n",
      "oscars\t|\tNNS\n"
     ]
    }
   ],
   "source": [
    "for token in tokens:\n",
    "    print(token, token.tag_, sep=\"\\t|\\t\")"
   ]
  },
  {
   "cell_type": "code",
   "execution_count": null,
   "metadata": {},
   "outputs": [],
   "source": [
    "# SpaCy performs better, esp on web-based text\n",
    "('longer', 'JJR') # Adjective, comparative"
   ]
  },
  {
   "cell_type": "markdown",
   "metadata": {},
   "source": [
    "[Tag sentence demo](http://spacy.io/displacy/)"
   ]
  },
  {
   "cell_type": "markdown",
   "metadata": {},
   "source": [
    "-----\n",
    "What is diff between ntlk and spaCy?\n",
    "-----\n",
    "\n",
    "There's a philosophical difference between spaCy and NLTK. \n",
    "\n",
    "spaCy is written to help you get things done. It's minimal and opinionated. We want to provide you with exactly one way to do it --- the right way. Spacy has accurate part-of-speech tagger + dependency parser. If you want something that has good defaults, Spacy is the way to go.\n",
    "\n",
    "In contrast, NLTK was created to support education. Most of what's there is for demo purposes, to help students explore ideas. But if you have your own data that you want to train on, NLTK is probably better. "
   ]
  },
  {
   "cell_type": "markdown",
   "metadata": {},
   "source": [
    "---\n",
    "Deep Dive into Penn Treebank POS tags\n",
    "----\n",
    "\n",
    "Penn Tags: somewhat popular but awful (not human readable)"
   ]
  },
  {
   "cell_type": "markdown",
   "metadata": {},
   "source": [
    "Penn Treebank POS tags:\n",
    "\n",
    "- [Online](https://www.ling.upenn.edu/courses/Fall_2003/ling001/penn_treebank_pos.html)\n",
    "- [Local](penn_treebank_pos_tags.ipynb)"
   ]
  },
  {
   "cell_type": "code",
   "execution_count": 16,
   "metadata": {},
   "outputs": [],
   "source": [
    "import nltk"
   ]
  },
  {
   "cell_type": "code",
   "execution_count": 18,
   "metadata": {},
   "outputs": [
    {
     "name": "stdout",
     "output_type": "stream",
     "text": [
      "[nltk_data] Downloading package tagsets to /Users/brian/nltk_data...\n",
      "[nltk_data]   Unzipping help/tagsets.zip.\n"
     ]
    }
   ],
   "source": [
    "try:\n",
    "    tags = nltk.data.load('help/tagsets/upenn_tagset.pickle')\n",
    "except LookupError:\n",
    "    nltk.download('tagsets')\n",
    "    tags = nltk.data.load('help/tagsets/upenn_tagset.pickle')"
   ]
  },
  {
   "cell_type": "code",
   "execution_count": 19,
   "metadata": {},
   "outputs": [
    {
     "data": {
      "text/plain": [
       "{'LS': ('list item marker',\n",
       "  'A A. B B. C C. D E F First G H I J K One SP-44001 SP-44002 SP-44005 SP-44007 Second Third Three Two * a b c d first five four one six three two '),\n",
       " 'TO': ('\"to\" as preposition or infinitive marker', 'to '),\n",
       " 'VBN': ('verb, past participle',\n",
       "  'multihulled dilapidated aerosolized chaired languished panelized used experimented flourished imitated reunifed factored condensed sheared unsettled primed dubbed desired ... '),\n",
       " \"''\": ('closing quotation mark', \"' '' \"),\n",
       " 'WP': ('WH-pronoun',\n",
       "  'that what whatever whatsoever which who whom whosoever '),\n",
       " 'UH': ('interjection',\n",
       "  'Goodbye Goody Gosh Wow Jeepers Jee-sus Hubba Hey Kee-reist Oops amen huh howdy uh dammit whammo shucks heck anyways whodunnit honey golly man baby diddle hush sonuvabitch ... '),\n",
       " 'VBG': ('verb, present participle or gerund',\n",
       "  \"telegraphing stirring focusing angering judging stalling lactating hankerin' alleging veering capping approaching traveling besieging encrypting interrupting erasing wincing ... \"),\n",
       " 'JJ': ('adjective or numeral, ordinal',\n",
       "  'third ill-mannered pre-war regrettable oiled calamitous first separable ectoplasmic battery-powered participatory fourth still-to-be-named multilingual multi-disciplinary ... '),\n",
       " 'VBZ': ('verb, present tense, 3rd person singular',\n",
       "  'bases reconstructs marks mixes displeases seals carps weaves snatches slumps stretches authorizes smolders pictures emerges stockpiles seduces fizzes uses bolsters slaps speaks pleads ... '),\n",
       " '--': ('dash', '-- '),\n",
       " 'VBP': ('verb, present tense, not 3rd person singular',\n",
       "  'predominate wrap resort sue twist spill cure lengthen brush terminate appear tend stray glisten obtain comprise detest tease attract emphasize mold postpone sever return wag ... '),\n",
       " 'NN': ('noun, common, singular or mass',\n",
       "  'common-carrier cabbage knuckle-duster Casino afghan shed thermostat investment slide humour falloff slick wind hyena override subhumanity machinist ... '),\n",
       " 'DT': ('determiner',\n",
       "  'all an another any both del each either every half la many much nary neither no some such that the them these this those '),\n",
       " 'PRP': ('pronoun, personal',\n",
       "  'hers herself him himself hisself it itself me myself one oneself ours ourselves ownself self she thee theirs them themselves they thou thy us '),\n",
       " ':': ('colon or ellipsis', ': ; ... '),\n",
       " 'WP$': ('WH-pronoun, possessive', 'whose '),\n",
       " 'NNPS': ('noun, proper, plural',\n",
       "  'Americans Americas Amharas Amityvilles Amusements Anarcho-Syndicalists Andalusians Andes Andruses Angels Animals Anthony Antilles Antiques Apache Apaches Apocrypha ... '),\n",
       " 'PRP$': ('pronoun, possessive', 'her his mine my our ours their thy your '),\n",
       " 'WDT': ('WH-determiner', 'that what whatever which whichever '),\n",
       " '(': ('opening parenthesis', '( [ { '),\n",
       " ')': ('closing parenthesis', ') ] } '),\n",
       " '.': ('sentence terminator', '. ! ? '),\n",
       " ',': ('comma', ', '),\n",
       " '``': ('opening quotation mark', '` `` '),\n",
       " '$': ('dollar', '$ -$ --$ A$ C$ HK$ M$ NZ$ S$ U.S.$ US$ '),\n",
       " 'RB': ('adverb',\n",
       "  'occasionally unabatingly maddeningly adventurously professedly stirringly prominently technologically magisterially predominately swiftly fiscally pitilessly ... '),\n",
       " 'RBR': ('adverb, comparative',\n",
       "  'further gloomier grander graver greater grimmer harder harsher healthier heavier higher however larger later leaner lengthier less-perfectly lesser lonelier longer louder lower more ... '),\n",
       " 'RBS': ('adverb, superlative',\n",
       "  'best biggest bluntest earliest farthest first furthest hardest heartiest highest largest least less most nearest second tightest worst '),\n",
       " 'VBD': ('verb, past tense',\n",
       "  'dipped pleaded swiped regummed soaked tidied convened halted registered cushioned exacted snubbed strode aimed adopted belied figgered speculated wore appreciated contemplated ... '),\n",
       " 'IN': ('preposition or conjunction, subordinating',\n",
       "  'astride among uppon whether out inside pro despite on by throughout below within for towards near behind atop around if like until below next into if beside ... '),\n",
       " 'FW': ('foreign word',\n",
       "  \"gemeinschaft hund ich jeux habeas Haementeria Herr K'ang-si vous lutihaw alai je jour objets salutaris fille quibusdam pas trop Monte terram fiche oui corporis ... \"),\n",
       " 'RP': ('particle',\n",
       "  'aboard about across along apart around aside at away back before behind by crop down ever fast for forth from go high i.e. in into just later low more off on open out over per pie raising start teeth that through under unto up up-pp upon whole with you '),\n",
       " 'JJR': ('adjective, comparative',\n",
       "  'bleaker braver breezier briefer brighter brisker broader bumper busier calmer cheaper choosier cleaner clearer closer colder commoner costlier cozier creamier crunchier cuter ... '),\n",
       " 'JJS': ('adjective, superlative',\n",
       "  'calmest cheapest choicest classiest cleanest clearest closest commonest corniest costliest crassest creepiest crudest cutest darkest deadliest dearest deepest densest dinkiest ... '),\n",
       " 'PDT': ('pre-determiner', 'all both half many quite such sure this '),\n",
       " 'MD': ('modal auxiliary',\n",
       "  \"can cannot could couldn't dare may might must need ought shall should shouldn't will would \"),\n",
       " 'VB': ('verb, base form',\n",
       "  'ask assemble assess assign assume atone attention avoid bake balkanize bank begin behold believe bend benefit bevel beware bless boil bomb boost brace break bring broil brush build ... '),\n",
       " 'WRB': ('Wh-adverb',\n",
       "  'how however whence whenever where whereby whereever wherein whereof why '),\n",
       " 'NNP': ('noun, proper, singular',\n",
       "  'Motown Venneboerger Czestochwa Ranzer Conchita Trumplane Christos Oceanside Escobar Kreisler Sawyer Cougar Yvette Ervin ODI Darryl CTCA Shannon A.K.C. Meltex Liverpool ... '),\n",
       " 'EX': ('existential there', 'there '),\n",
       " 'NNS': ('noun, common, plural',\n",
       "  'undergraduates scotches bric-a-brac products bodyguards facets coasts divestitures storehouses designs clubs fragrances averages subjectivists apprehensions muses factory-jobs ... '),\n",
       " 'SYM': ('symbol',\n",
       "  \"% & ' '' ''. ) ). * + ,. < = > @ A[fj] U.S U.S.S.R * ** *** \"),\n",
       " 'CC': ('conjunction, coordinating',\n",
       "  \"& 'n and both but either et for less minus neither nor or plus so therefore times v. versus vs. whether yet \"),\n",
       " 'CD': ('numeral, cardinal',\n",
       "  \"mid-1890 nine-thirty forty-two one-tenth ten million 0.5 one forty-seven 1987 twenty '79 zero two 78-degrees eighty-four IX '60s .025 fifteen 271,124 dozen quintillion DM2,000 ... \"),\n",
       " 'POS': ('genitive marker', \"' 's \")}"
      ]
     },
     "execution_count": 19,
     "metadata": {},
     "output_type": "execute_result"
    }
   ],
   "source": [
    "tags"
   ]
  },
  {
   "cell_type": "markdown",
   "metadata": {},
   "source": [
    "Wow! That is a lot of tags"
   ]
  },
  {
   "cell_type": "code",
   "execution_count": 20,
   "metadata": {},
   "outputs": [],
   "source": [
    "pen_label = 'NN' "
   ]
  },
  {
   "cell_type": "code",
   "execution_count": 21,
   "metadata": {},
   "outputs": [
    {
     "name": "stdout",
     "output_type": "stream",
     "text": [
      "NN: noun, common, singular or mass\n",
      "    common-carrier cabbage knuckle-duster Casino afghan shed thermostat\n",
      "    investment slide humour falloff slick wind hyena override subhumanity\n",
      "    machinist ...\n"
     ]
    }
   ],
   "source": [
    "nltk.help.upenn_tagset(pen_label)"
   ]
  },
  {
   "cell_type": "code",
   "execution_count": 22,
   "metadata": {},
   "outputs": [
    {
     "data": {
      "text/plain": [
       "'noun, common, singular or mass'"
      ]
     },
     "execution_count": 22,
     "metadata": {},
     "output_type": "execute_result"
    }
   ],
   "source": [
    "tags[pen_label][0]"
   ]
  },
  {
   "cell_type": "markdown",
   "metadata": {},
   "source": [
    "Let's just grab the most important part"
   ]
  },
  {
   "cell_type": "code",
   "execution_count": 23,
   "metadata": {},
   "outputs": [
    {
     "data": {
      "text/plain": [
       "'noun'"
      ]
     },
     "execution_count": 23,
     "metadata": {},
     "output_type": "execute_result"
    }
   ],
   "source": [
    "tags[pen_label][0].split(',')[0]"
   ]
  },
  {
   "cell_type": "code",
   "execution_count": 24,
   "metadata": {},
   "outputs": [],
   "source": [
    "tags_simple = {pen_label:long_description[0].split(',')[0]\n",
    "                   for pen_label, long_description in tags.items()}"
   ]
  },
  {
   "cell_type": "code",
   "execution_count": 25,
   "metadata": {},
   "outputs": [
    {
     "data": {
      "text/plain": [
       "{'LS': 'list item marker',\n",
       " 'TO': '\"to\" as preposition or infinitive marker',\n",
       " 'VBN': 'verb',\n",
       " \"''\": 'closing quotation mark',\n",
       " 'WP': 'WH-pronoun',\n",
       " 'UH': 'interjection',\n",
       " 'VBG': 'verb',\n",
       " 'JJ': 'adjective or numeral',\n",
       " 'VBZ': 'verb',\n",
       " '--': 'dash',\n",
       " 'VBP': 'verb',\n",
       " 'NN': 'noun',\n",
       " 'DT': 'determiner',\n",
       " 'PRP': 'pronoun',\n",
       " ':': 'colon or ellipsis',\n",
       " 'WP$': 'WH-pronoun',\n",
       " 'NNPS': 'noun',\n",
       " 'PRP$': 'pronoun',\n",
       " 'WDT': 'WH-determiner',\n",
       " '(': 'opening parenthesis',\n",
       " ')': 'closing parenthesis',\n",
       " '.': 'sentence terminator',\n",
       " ',': 'comma',\n",
       " '``': 'opening quotation mark',\n",
       " '$': 'dollar',\n",
       " 'RB': 'adverb',\n",
       " 'RBR': 'adverb',\n",
       " 'RBS': 'adverb',\n",
       " 'VBD': 'verb',\n",
       " 'IN': 'preposition or conjunction',\n",
       " 'FW': 'foreign word',\n",
       " 'RP': 'particle',\n",
       " 'JJR': 'adjective',\n",
       " 'JJS': 'adjective',\n",
       " 'PDT': 'pre-determiner',\n",
       " 'MD': 'modal auxiliary',\n",
       " 'VB': 'verb',\n",
       " 'WRB': 'Wh-adverb',\n",
       " 'NNP': 'noun',\n",
       " 'EX': 'existential there',\n",
       " 'NNS': 'noun',\n",
       " 'SYM': 'symbol',\n",
       " 'CC': 'conjunction',\n",
       " 'CD': 'numeral',\n",
       " 'POS': 'genitive marker'}"
      ]
     },
     "execution_count": 25,
     "metadata": {},
     "output_type": "execute_result"
    }
   ],
   "source": [
    "tags_simple"
   ]
  },
  {
   "cell_type": "code",
   "execution_count": 26,
   "metadata": {},
   "outputs": [
    {
     "data": {
      "text/plain": [
       "('existential there', 'there ')"
      ]
     },
     "execution_count": 26,
     "metadata": {},
     "output_type": "execute_result"
    }
   ],
   "source": [
    "# Brian's fav\n",
    "tags['EX']"
   ]
  },
  {
   "cell_type": "markdown",
   "metadata": {},
   "source": [
    "'existential there' refers to the existence or presence of something. \n",
    "\n",
    "Examples in English include the sentences\n",
    "\n",
    "> \"There is a God\"\n",
    "\n",
    "> \"There are boys in the yard\"."
   ]
  },
  {
   "cell_type": "markdown",
   "metadata": {},
   "source": [
    "<center><img src=\"https://motseiblacksnow.files.wordpress.com/2011/02/existential-gps-chicken.jpg?w=470\" width=\"700\"/></center>"
   ]
  },
  {
   "cell_type": "markdown",
   "metadata": {},
   "source": [
    "Okay let's replace the cryptic Penn tags with the longer descriptions"
   ]
  },
  {
   "cell_type": "code",
   "execution_count": 27,
   "metadata": {},
   "outputs": [],
   "source": [
    "tagged = TextBlob(\"I'll be back.\").tags"
   ]
  },
  {
   "cell_type": "code",
   "execution_count": 30,
   "metadata": {},
   "outputs": [
    {
     "name": "stdout",
     "output_type": "stream",
     "text": [
      "I \t pronoun\n",
      "'ll \t modal auxiliary\n",
      "be \t verb\n",
      "back \t adverb\n"
     ]
    }
   ],
   "source": [
    "for item in tagged:\n",
    "    print(item[0], '\\t', tags_simple[item[1]])"
   ]
  },
  {
   "cell_type": "markdown",
   "metadata": {},
   "source": [
    "***"
   ]
  }
 ],
 "metadata": {
  "kernelspec": {
   "display_name": "Python 3",
   "language": "python",
   "name": "python3"
  },
  "language_info": {
   "codemirror_mode": {
    "name": "ipython",
    "version": 3
   },
   "file_extension": ".py",
   "mimetype": "text/x-python",
   "name": "python",
   "nbconvert_exporter": "python",
   "pygments_lexer": "ipython3",
   "version": "3.6.5"
  }
 },
 "nbformat": 4,
 "nbformat_minor": 1
}
