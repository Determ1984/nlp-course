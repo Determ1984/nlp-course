{
 "cells": [
  {
   "cell_type": "markdown",
   "metadata": {
    "slideshow": {
     "slide_type": "slide"
    }
   },
   "source": [
    "Named Entity Recognition (NER)\n",
    "---\n",
    "\n",
    "<center><img src=\"https://researchkb.files.wordpress.com/2014/02/ner.png\" width=\"700\"/></center>"
   ]
  },
  {
   "cell_type": "markdown",
   "metadata": {
    "slideshow": {
     "slide_type": "slide"
    }
   },
   "source": [
    "> Knowledge worker adds value to information.   \n",
    "> \\- Peter Drucker "
   ]
  },
  {
   "cell_type": "markdown",
   "metadata": {
    "slideshow": {
     "slide_type": "fragment"
    }
   },
   "source": [
    "---\n",
    "\n",
    "> Data Scientist adds value to data.  \n",
    "> \\- Brian Spiering\n"
   ]
  },
  {
   "cell_type": "markdown",
   "metadata": {
    "slideshow": {
     "slide_type": "slide"
    }
   },
   "source": [
    "By The End Of This Session You Should Be Able To:\n",
    "----\n",
    "\n",
    "- Explain how NER builds on POS tagging\n",
    "- Describe conceptually how to train NER\n",
    "- Pick the best system for NER tagging"
   ]
  },
  {
   "cell_type": "markdown",
   "metadata": {
    "slideshow": {
     "slide_type": "slide"
    }
   },
   "source": [
    "NER is just token classification\n",
    "---\n",
    "\n",
    "NER is a \"Strict Type\" system for human language"
   ]
  },
  {
   "cell_type": "markdown",
   "metadata": {
    "slideshow": {
     "slide_type": "slide"
    }
   },
   "source": [
    "NER is difficult\n",
    "-----\n",
    "\n",
    "I used to work at Galvanize (the company):\n",
    "\n",
    "Galvanize also means:\n",
    "\n",
    "1. shock or excite (someone), typically into taking action.\n",
    "2. coat (iron or steel) with a protective layer of zinc."
   ]
  },
  {
   "cell_type": "markdown",
   "metadata": {
    "slideshow": {
     "slide_type": "slide"
    }
   },
   "source": [
    "<center><img src=\"images/ner_fail.png\" width=\"400\"/></center>"
   ]
  },
  {
   "cell_type": "markdown",
   "metadata": {
    "slideshow": {
     "slide_type": "slide"
    }
   },
   "source": [
    "NER is can only be Nouns\n",
    "-----\n",
    "\n",
    "POS comes first; NER comes second\n",
    "\n",
    "Avoids problems like \"Galvanize\" (company vs verb) and \"Will\" (name vs verb)"
   ]
  },
  {
   "cell_type": "markdown",
   "metadata": {
    "slideshow": {
     "slide_type": "slide"
    }
   },
   "source": [
    "Common Named Entity (NE) Types\n",
    "---\n",
    "\n",
    "- ORGANIZATION: Georgia-Pacific Corp., WHO\n",
    "- PERSON: Eddy Bonte, President Obama\n",
    "- LOCATION: Murray River, Mount Everest\n",
    "- DATE: June, 2008-06-29\n",
    "- TIME: two fifty a m, 1:30 p.m.\n",
    "- MONEY: 175 million Canadian Dollars, GBP 10.40\n",
    "- GPE (Geo-political entity): South East Asia, Midlothian"
   ]
  },
  {
   "cell_type": "markdown",
   "metadata": {
    "slideshow": {
     "slide_type": "slide"
    }
   },
   "source": [
    "Feel free to define your own\n",
    "-----\n",
    "\n",
    "- PRESIDENT: Trump, Washington, Lincoln\n",
    "- COUNTRY: Thailand, Germany, Canada\n",
    "- PRODUCT: Apple Watch\n"
   ]
  },
  {
   "cell_type": "markdown",
   "metadata": {
    "slideshow": {
     "slide_type": "fragment"
    }
   },
   "source": [
    "- POSITION / JOB_TITLE: Product Manager, Data Scientist"
   ]
  },
  {
   "cell_type": "markdown",
   "metadata": {
    "slideshow": {
     "slide_type": "slide"
    }
   },
   "source": [
    "NER Workflow\n",
    "---\n",
    "\n",
    "<center><img src=\"images/ie-architecture.png\" width=\"700\"/></center>"
   ]
  },
  {
   "cell_type": "markdown",
   "metadata": {
    "slideshow": {
     "slide_type": "slide"
    }
   },
   "source": [
    "NER Methods (POS flashback)\n",
    "---\n",
    "\n",
    "1. Rule-based, aka make a dictionary\n",
    "2. Statistical Models, aka use Graphical Models\n",
    "3. Deep Learning, aka what everyone does now"
   ]
  },
  {
   "cell_type": "markdown",
   "metadata": {
    "slideshow": {
     "slide_type": "slide"
    }
   },
   "source": [
    "Rule based NER\n",
    "-----\n",
    "\n",
    "Use a combination of lists and regular expressions to identify named entities. \n",
    "\n",
    "Examples:\n",
    "\n",
    "```python\n",
    "{\"Dick\": PERSON,\n",
    "\"Jane\": PERSON}\n",
    "```"
   ]
  },
  {
   "cell_type": "markdown",
   "metadata": {
    "slideshow": {
     "slide_type": "slide"
    }
   },
   "source": [
    "Gazetteers\n",
    "-----\n",
    "\n",
    "![](images/gazetteer.png)\n",
    "\n",
    "> A gazetteer consists of a set of lists containing names of entities such as cities, organizations, days of the week, etc. These lists are used to find occurrences of these names in text, e.g. for the task of named entity recognition."
   ]
  },
  {
   "cell_type": "markdown",
   "metadata": {
    "slideshow": {
     "slide_type": "slide"
    }
   },
   "source": [
    "Gazetteers\n",
    "-----\n",
    "\n",
    "[How to make a gazetteer](http://www.aclweb.org/anthology/P08-1047)\n",
    "\n",
    "Then use it to train other models\n",
    "\n",
    "![](images/extend)"
   ]
  },
  {
   "cell_type": "markdown",
   "metadata": {
    "slideshow": {
     "slide_type": "slide"
    }
   },
   "source": [
    "Gazetteers: Pros\n",
    "-----"
   ]
  },
  {
   "cell_type": "markdown",
   "metadata": {
    "slideshow": {
     "slide_type": "fragment"
    }
   },
   "source": [
    "- Simplest model (that could possible work)\n",
    "- Minimum Viable Solution (MVP)\n",
    "- Works for most cases overall\n",
    "- Performs nicely within specific, well-understood, static domains"
   ]
  },
  {
   "cell_type": "markdown",
   "metadata": {
    "slideshow": {
     "slide_type": "slide"
    }
   },
   "source": [
    "Gazetteers: Cons\n",
    "-----"
   ]
  },
  {
   "cell_type": "markdown",
   "metadata": {
    "slideshow": {
     "slide_type": "fragment"
    }
   },
   "source": [
    "- Deterministic\n",
    "- Brittle\n",
    "- Labor intensive to maintaining\n",
    "- Names of people and places are often the same — Washington (state, D.C., or George)"
   ]
  },
  {
   "cell_type": "markdown",
   "metadata": {
    "slideshow": {
     "slide_type": "skip"
    }
   },
   "source": [
    "- Many proper names are conjunctions of other proper names.\n",
    "- Moving to other languages or domains may involve repeating much of the work.\n",
    "- It’s difficult to model dependencies between names across a document using rules based on regular expressions."
   ]
  },
  {
   "cell_type": "markdown",
   "metadata": {
    "slideshow": {
     "slide_type": "slide"
    }
   },
   "source": [
    "Student Activity\n",
    "-------\n",
    "\n",
    "Reverse dictionary look up"
   ]
  },
  {
   "cell_type": "code",
   "execution_count": 2,
   "metadata": {
    "slideshow": {
     "slide_type": "slide"
    }
   },
   "outputs": [],
   "source": [
    "gazetteer = {'names':     {'Danai', 'John', 'Akshay', 'Ting Ting', 'Asmita', 'Lingzhi', 'Ford'},\n",
    "             'companies': {'Ford', 'Walmart', 'K-Mart', 'Sears', 'JC Penny', 'JC', 'Chase Bank', 'Chase'}}"
   ]
  },
  {
   "cell_type": "code",
   "execution_count": 3,
   "metadata": {
    "slideshow": {
     "slide_type": "fragment"
    }
   },
   "outputs": [],
   "source": [
    "def test_keys_with_item_value():\n",
    "    assert keys_with_item_value(gazetteer, 'Lambda') == set() # Empty set\n",
    "    assert keys_with_item_value(gazetteer, 'John') == {'names'}\n",
    "    assert keys_with_item_value(gazetteer, 'Ford') == {'companies', 'names'} \n",
    "    return 'tests pass 🙂'"
   ]
  },
  {
   "cell_type": "code",
   "execution_count": 4,
   "metadata": {
    "slideshow": {
     "slide_type": "slide"
    }
   },
   "outputs": [
    {
     "data": {
      "text/plain": [
       "'tests pass 🙂'"
      ]
     },
     "execution_count": 4,
     "metadata": {},
     "output_type": "execute_result"
    }
   ],
   "source": [
    "def keys_with_item_value(dictionary, item):\n",
    "    \"Return a set of keys that have item in the values\"\n",
    "    return {key for key, value in dictionary.items() if item in value}\n",
    "\n",
    "test_keys_with_item_value()"
   ]
  },
  {
   "cell_type": "markdown",
   "metadata": {
    "slideshow": {
     "slide_type": "slide"
    }
   },
   "source": [
    "What is the Big O time complexity? <br> - Your code <br> - This code\n",
    "-----"
   ]
  },
  {
   "cell_type": "markdown",
   "metadata": {
    "slideshow": {
     "slide_type": "fragment"
    }
   },
   "source": [
    "Linear with the number of keys.\n",
    "\n",
    "Constant with the number of values within in a key.\n",
    "\n",
    "Given the structure of a gazetteer, that is good enough."
   ]
  },
  {
   "cell_type": "markdown",
   "metadata": {
    "slideshow": {
     "slide_type": "skip"
    }
   },
   "source": [
    "[Source](http://code.activestate.com/recipes/415903-two-dict-classes-which-can-lookup-keys-by-value-an/)"
   ]
  },
  {
   "cell_type": "markdown",
   "metadata": {
    "slideshow": {
     "slide_type": "skip"
    }
   },
   "source": [
    "[Source](http://research.ijcaonline.org/volume73/number14/pxc3890066.pdf)"
   ]
  },
  {
   "cell_type": "markdown",
   "metadata": {
    "slideshow": {
     "slide_type": "slide"
    }
   },
   "source": [
    "Statistical Models Examples\n",
    "------\n",
    "\n",
    "- Hidden Markov model (HMM)\n",
    "- Conditional random fields (CRFs)\n",
    "- Viterbi"
   ]
  },
  {
   "cell_type": "markdown",
   "metadata": {
    "slideshow": {
     "slide_type": "slide"
    }
   },
   "source": [
    "Viterbi\n",
    "----\n",
    "<center><img src=\"https://i.ytimg.com/vi/orRsWGqMOSk/maxresdefault.jpg\" width=\"500\"/></center>\n",
    "\n",
    "A dynamic programming algorithm for finding the most likely sequence of hidden states (called the Viterbi path)"
   ]
  },
  {
   "cell_type": "markdown",
   "metadata": {
    "slideshow": {
     "slide_type": "slide"
    }
   },
   "source": [
    "Viterbi to generative Siri speech sounds\n",
    "-------\n",
    "\n",
    "<center><img src=\"https://machinelearning.apple.com/images/journals/siri-voices/viterbi_lattice.png\" width=\"700\"/></center>\n",
    "\n",
    "The sounds must:\n",
    "\n",
    "1. Match the target prosody \n",
    "2. The units should, wherever possible, be concatenated without audible glitches at the unit boundary\n",
    "\n",
    "The goal is important but how to get there also matters"
   ]
  },
  {
   "cell_type": "markdown",
   "metadata": {
    "slideshow": {
     "slide_type": "skip"
    }
   },
   "source": [
    "Source: https://machinelearning.apple.com/2017/08/06/siri-voices.html"
   ]
  },
  {
   "cell_type": "markdown",
   "metadata": {
    "slideshow": {
     "slide_type": "slide"
    }
   },
   "source": [
    "Statistical Models: __Pros__\n",
    "-----"
   ]
  },
  {
   "cell_type": "markdown",
   "metadata": {
    "slideshow": {
     "slide_type": "fragment"
    }
   },
   "source": [
    "- \"Good enough\" for performance and speed\n",
    "- Usually capable of human level performance\n",
    "- Transfering to other languages or domains may only involve minimal code changes.\n",
    "- The classifier can be retrained to incorporate additional text or other features.\n",
    "- It’s easier to model the context within a sentence and in a document.\n",
    "- Currently most common so you'll see them working in production environments"
   ]
  },
  {
   "cell_type": "markdown",
   "metadata": {
    "slideshow": {
     "slide_type": "slide"
    }
   },
   "source": [
    "Statistical Models: __Cons__\n",
    "-----"
   ]
  },
  {
   "cell_type": "markdown",
   "metadata": {
    "slideshow": {
     "slide_type": "fragment"
    }
   },
   "source": [
    "- The main disadvantage is the need for human-annotated data.\n",
    "    - Also you may not have enough data\n",
    "- Deep Learning is better now!"
   ]
  },
  {
   "cell_type": "markdown",
   "metadata": {
    "slideshow": {
     "slide_type": "slide"
    }
   },
   "source": [
    "General DL Model for Language Tasks\n",
    "-----\n",
    "<br>\n",
    "<center><img src=\"http://www.marekrei.com/blog/wp-content/uploads/2016/12/baseline_graph-300x153.png\" width=\"700\"/></center>"
   ]
  },
  {
   "cell_type": "markdown",
   "metadata": {
    "slideshow": {
     "slide_type": "slide"
    }
   },
   "source": [
    "1) Each word is represented as a 300-dimensional word embedding. \n"
   ]
  },
  {
   "cell_type": "markdown",
   "metadata": {
    "slideshow": {
     "slide_type": "fragment"
    }
   },
   "source": [
    "2) Each word is represented as low dimensional dense word embedding. \n"
   ]
  },
  {
   "cell_type": "markdown",
   "metadata": {
    "slideshow": {
     "slide_type": "fragment"
    }
   },
   "source": [
    "3) Passed through a bidirectional LSTM. \n"
   ]
  },
  {
   "cell_type": "markdown",
   "metadata": {
    "slideshow": {
     "slide_type": "fragment"
    }
   },
   "source": [
    "4) The representations from both directions are concatenated, in order to get a word representation that is conditioned on the whole sentence. \n",
    "\n"
   ]
  },
  {
   "cell_type": "markdown",
   "metadata": {
    "slideshow": {
     "slide_type": "fragment"
    }
   },
   "source": [
    "5) Then a hidden layer "
   ]
  },
  {
   "cell_type": "markdown",
   "metadata": {
    "slideshow": {
     "slide_type": "fragment"
    }
   },
   "source": [
    "6) Finally an output layer, which can be a __softmax or a Conditional Random Field__."
   ]
  },
  {
   "cell_type": "markdown",
   "metadata": {
    "slideshow": {
     "slide_type": "skip"
    }
   },
   "source": [
    "Source: http://www.marekrei.com/blog/attending-to-characters-in-neural-sequence-labeling-models/"
   ]
  },
  {
   "cell_type": "markdown",
   "metadata": {
    "slideshow": {
     "slide_type": "slide"
    }
   },
   "source": [
    "Deep Learning for NER\n",
    "-----\n",
    "\n",
    "<center><img src=\"https://s3.amazonaws.com/poly-screenshots.angel.co/Project/56/200582/51ca1ecf91f8477a4d8f0a796f6c62c4-original.png\" width=\"800\"/></center>"
   ]
  },
  {
   "cell_type": "markdown",
   "metadata": {
    "slideshow": {
     "slide_type": "slide"
    }
   },
   "source": [
    "<center><img src=\"images/sequence_labeling.png\" width=\"700\"/></center>"
   ]
  },
  {
   "cell_type": "markdown",
   "metadata": {
    "slideshow": {
     "slide_type": "slide"
    }
   },
   "source": [
    "Summary\n",
    "----\n",
    "\n",
    "- NER is more specific version of POS tagging\n",
    "- Generally, more useful in business context.\n",
    "- Remember to define your own tags\n",
    "- NER can be done with rules, graphical models, or deep learning\n",
    "- DL sequence models are currently state-of-the-art across many tasks in NLP"
   ]
  },
  {
   "cell_type": "markdown",
   "metadata": {
    "collapsed": true,
    "slideshow": {
     "slide_type": "slide"
    }
   },
   "source": [
    "<br>\n",
    "<br>\n",
    "----"
   ]
  }
 ],
 "metadata": {
  "anaconda-cloud": {},
  "celltoolbar": "Slideshow",
  "kernelspec": {
   "display_name": "Python 3",
   "language": "python",
   "name": "python3"
  },
  "language_info": {
   "codemirror_mode": {
    "name": "ipython",
    "version": 3
   },
   "file_extension": ".py",
   "mimetype": "text/x-python",
   "name": "python",
   "nbconvert_exporter": "python",
   "pygments_lexer": "ipython3",
   "version": "3.6.5"
  }
 },
 "nbformat": 4,
 "nbformat_minor": 1
}
