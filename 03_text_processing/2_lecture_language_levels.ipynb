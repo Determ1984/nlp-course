{
 "cells": [
  {
   "cell_type": "markdown",
   "metadata": {
    "slideshow": {
     "slide_type": "slide"
    }
   },
   "source": [
    "Text Processing\n",
    "----\n",
    "\n",
    "<center><img src=\"http://ecx.images-amazon.com/images/I/512LDICmVjL._SX311_BO1,204,203,200_.jpg\" width=\"300\"/></center>"
   ]
  },
  {
   "cell_type": "markdown",
   "metadata": {
    "slideshow": {
     "slide_type": "slide"
    }
   },
   "source": [
    "By The End Of This Session You Should Be Able To:\n",
    "----\n",
    "\n",
    "- List the different levels of text processing\n",
    "- Understand how to models change based on text level"
   ]
  },
  {
   "cell_type": "markdown",
   "metadata": {
    "slideshow": {
     "slide_type": "slide"
    }
   },
   "source": [
    "Text Processing Levels\n",
    "-----\n",
    "\n",
    "1. Character\n",
    "1. Words \n",
    "1. Sentences (multiple words)\n",
    "1. Paragraphs (multiple sentences)\n",
    "1. Document (multiple paragraphs)\n",
    "1. Corpus (multiple documents)"
   ]
  },
  {
   "cell_type": "markdown",
   "metadata": {
    "slideshow": {
     "slide_type": "skip"
    }
   },
   "source": [
    "Source: Taming Text, p 9"
   ]
  },
  {
   "cell_type": "markdown",
   "metadata": {
    "slideshow": {
     "slide_type": "slide"
    }
   },
   "source": [
    "Character\n",
    "------\n",
    "\n",
    "- Examples: `a, b, c, é, ‽, µ, Ж, ҈, ☄`\n",
    "- Possible Issues:\n",
    "    - Character encodings\n",
    "    - Punctuation\n",
    "    - Normalization "
   ]
  },
  {
   "cell_type": "markdown",
   "metadata": {
    "slideshow": {
     "slide_type": "slide"
    }
   },
   "source": [
    "[Casefolding](https://www.w3.org/International/wiki/Case_folding)\n",
    "-------\n",
    "\n",
    "For example, the German language uses the \"sharp-s\" character in words like \"groß\". This letter's uppercase equivalent is a two letter sequence 'SS' (\"GROSS\")."
   ]
  },
  {
   "cell_type": "code",
   "execution_count": 1,
   "metadata": {
    "slideshow": {
     "slide_type": "fragment"
    }
   },
   "outputs": [
    {
     "data": {
      "text/plain": [
       "'gross'"
      ]
     },
     "execution_count": 1,
     "metadata": {},
     "output_type": "execute_result"
    }
   ],
   "source": [
    "'groß'.casefold()"
   ]
  },
  {
   "cell_type": "code",
   "execution_count": 2,
   "metadata": {
    "slideshow": {
     "slide_type": "fragment"
    }
   },
   "outputs": [
    {
     "data": {
      "text/plain": [
       "'gross'"
      ]
     },
     "execution_count": 2,
     "metadata": {},
     "output_type": "execute_result"
    }
   ],
   "source": [
    "'GROSS'.casefold()"
   ]
  },
  {
   "cell_type": "markdown",
   "metadata": {
    "slideshow": {
     "slide_type": "slide"
    }
   },
   "source": [
    "Words\n",
    "-----\n",
    "<center><img src=\"https://upload.wikimedia.org/wikipedia/commons/5/5b/New_Zealand_0577.jpg\" width=\"700\"/></center>"
   ]
  },
  {
   "cell_type": "markdown",
   "metadata": {
    "slideshow": {
     "slide_type": "slide"
    }
   },
   "source": [
    "Words Issues:\n",
    "-----\n",
    "\n",
    "- Word segmentation: \n",
    "    - Dividing text into words\n",
    "    - Fairly easy for English and other languages that use whitespace\n",
    "    - CJK characters\n",
    "- Abbreviations, acronyms, numbers, and spelling\n",
    "- Normalization\n",
    "    - Stemming\n",
    "    - Lemmatization"
   ]
  },
  {
   "cell_type": "markdown",
   "metadata": {
    "slideshow": {
     "slide_type": "slide"
    }
   },
   "source": [
    "Lexeme\n",
    "----\n",
    "<br>\n",
    "<center><img src=\"https://www.ulatus.com/translation-blog/wp-content/uploads/2016/04/lexical_isues_in_translation.png\" width=\"700\"/></center>\n",
    "\n",
    "A basic unit of meaning \n",
    "\n",
    "A family of words with different forms but similar meaning.\n",
    "\n",
    "Can be more than one word: `San Francisco`, `San Fran`, `SF`, `Frisco`"
   ]
  },
  {
   "cell_type": "markdown",
   "metadata": {
    "slideshow": {
     "slide_type": "slide"
    }
   },
   "source": [
    "Sentences\n",
    "-----\n",
    "\n",
    "> The old man the boats.\n",
    "\n",
    "- Sentence boundary detection is a well-understood problem in English, but is still not perfect.\n",
    "- Phrase detection. `San Francisco` is an examples of phrase / collocation.\n",
    "- Parsing: breaking sentences down into subject-verb and other relation-ships often yields useful information"
   ]
  },
  {
   "cell_type": "markdown",
   "metadata": {
    "slideshow": {
     "slide_type": "slide"
    }
   },
   "source": [
    "Paragraphs\n",
    "------\n",
    "\n",
    "At this level, processing becomes more difficult in an effort to find deeper understanding of an author’s intent. \n",
    "\n",
    "Types of Summarization:\n",
    "\n",
    "- Extraction -  Find best key clauses without modifying text\n",
    "- Abstraction - Use NLG to construct new text"
   ]
  },
  {
   "cell_type": "markdown",
   "metadata": {
    "slideshow": {
     "slide_type": "slide"
    }
   },
   "source": [
    "Documents\n",
    "----\n",
    "\n",
    "Typical level of analysis.\n",
    "\n",
    "Orders of magnitude in size - from tweets to novels.\n",
    "\n",
    "Often requires knowledge that goes beyond what is contained in the actual document (e.g., labels for classification)"
   ]
  },
  {
   "cell_type": "markdown",
   "metadata": {
    "slideshow": {
     "slide_type": "slide"
    }
   },
   "source": [
    "Corpus: Modeling entire cultures\n",
    "-----\n",
    "\n",
    "<center><img src=\"http://news.mit.edu/sites/mit.edu.newsoffice/files/styles/news_article_image_top_slideshow/public/images/2010/20100628141035-0_0.jpg?itok=Thvlc7T1\" width=\"700\"/></center>\n",
    "\n",
    "Used computers to model ancient an lost language `Ugaritic` that had never been understood"
   ]
  },
  {
   "cell_type": "markdown",
   "metadata": {
    "slideshow": {
     "slide_type": "skip"
    }
   },
   "source": [
    "[Source](http://people.csail.mit.edu/bsnyder/papers/bsnyder_acl2010.pdf)"
   ]
  },
  {
   "cell_type": "markdown",
   "metadata": {
    "collapsed": true,
    "slideshow": {
     "slide_type": "slide"
    }
   },
   "source": [
    "Summary\n",
    "-----\n",
    "\n",
    "- Languages have many levels. \n",
    "- Pick the right level for processing and modeling.\n",
    "- Correctly process lower level to enable useful higher level modeling."
   ]
  },
  {
   "cell_type": "markdown",
   "metadata": {
    "slideshow": {
     "slide_type": "slide"
    }
   },
   "source": [
    "<br>\n",
    "<br> \n",
    "<br>\n",
    "\n",
    "----"
   ]
  }
 ],
 "metadata": {
  "celltoolbar": "Slideshow",
  "kernelspec": {
   "display_name": "Python 3",
   "language": "python",
   "name": "python3"
  },
  "language_info": {
   "codemirror_mode": {
    "name": "ipython",
    "version": 3
   },
   "file_extension": ".py",
   "mimetype": "text/x-python",
   "name": "python",
   "nbconvert_exporter": "python",
   "pygments_lexer": "ipython3",
   "version": "3.6.5"
  }
 },
 "nbformat": 4,
 "nbformat_minor": 1
}
