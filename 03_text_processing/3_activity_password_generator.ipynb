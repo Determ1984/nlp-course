{
 "cells": [
  {
   "cell_type": "markdown",
   "metadata": {
    "collapsed": true,
    "slideshow": {
     "slide_type": "slide"
    }
   },
   "source": [
    "Python has \"batteries included\" for text processing\n",
    "-----\n",
    "\n",
    "![](http://abstrusegoose.com/strips/batteries_included.png)"
   ]
  },
  {
   "cell_type": "markdown",
   "metadata": {
    "slideshow": {
     "slide_type": "slide"
    }
   },
   "source": [
    "Student Activity: Make a simple password generator \n",
    "-----\n",
    "\n",
    "Each password should have:\n",
    "\n",
    "- At least one upper case English letter\n",
    "- At least one lower case English letter\n",
    "- At least one digit\n",
    "- At least one special character, aka punctuation\n",
    "- Minimum eight characters in length\n",
    "\n",
    "Results like this:\n",
    "\n",
    "- `TTh6|Bo8*`  # Note: Sample with replacement\n",
    "- `6*DpA7)e`\n",
    "- `I9\\uc,F1`\n",
    "\n",
    "Use only the Python Standard Library"
   ]
  },
  {
   "cell_type": "code",
   "execution_count": 9,
   "metadata": {
    "slideshow": {
     "slide_type": "skip"
    }
   },
   "outputs": [],
   "source": [
    "reset -fs"
   ]
  },
  {
   "cell_type": "code",
   "execution_count": 10,
   "metadata": {
    "slideshow": {
     "slide_type": "slide"
    }
   },
   "outputs": [
    {
     "name": "stdout",
     "output_type": "stream",
     "text": [
      "e07BmU>,\n"
     ]
    }
   ],
   "source": [
    "import random\n",
    "import string\n",
    "\n",
    "password = \"\"\n",
    "\n",
    "while len(password) < 8:\n",
    "    password += random.choice(string.ascii_uppercase)\n",
    "    password += random.choice(string.ascii_lowercase)\n",
    "    password += random.choice(string.digits)\n",
    "    password += random.choice(string.punctuation)\n",
    "\n",
    "cat = \"\".join\n",
    "password = cat(random.sample(password, len(password)))\n",
    "print(password)"
   ]
  },
  {
   "cell_type": "markdown",
   "metadata": {},
   "source": [
    "https://stackoverflow.com/questions/19605150/regex-for-password-must-contain-at-least-eight-characters-at-least-one-number-a"
   ]
  },
  {
   "cell_type": "markdown",
   "metadata": {
    "slideshow": {
     "slide_type": "slide"
    }
   },
   "source": [
    "How would we test it? "
   ]
  },
  {
   "cell_type": "code",
   "execution_count": 19,
   "metadata": {
    "slideshow": {
     "slide_type": "fragment"
    }
   },
   "outputs": [
    {
     "data": {
      "text/plain": [
       "'^(?=.*?[A-Z])(?=.*?[a-z])(?=.*?[0-9])(?=.*?[#?!@$%^&*-])(.{8,}$)'"
      ]
     },
     "execution_count": 19,
     "metadata": {},
     "output_type": "execute_result"
    }
   ],
   "source": [
    "password_pattern =  [r'^',\n",
    "                     r'(?=.*?[A-Z])',        # At least one upper case English letter\n",
    "                     r'(?=.*?[a-z])',        # At least one lower case English letter\n",
    "                     r'(?=.*?[0-9])',        # At least one digit\n",
    "                     r'(?=.*?[#?!@$%^&*-])', # At least one special character\n",
    "                     r'(.{8,}$)'             # Minimum eight in length \n",
    "                    ]\n",
    "\n",
    "r''.join(password_pattern)"
   ]
  },
  {
   "cell_type": "markdown",
   "metadata": {
    "slideshow": {
     "slide_type": "slide"
    }
   },
   "source": [
    "<br>\n",
    "<br> \n",
    "<br>\n",
    "\n",
    "----"
   ]
  }
 ],
 "metadata": {
  "celltoolbar": "Slideshow",
  "kernelspec": {
   "display_name": "Python 3",
   "language": "python",
   "name": "python3"
  },
  "language_info": {
   "codemirror_mode": {
    "name": "ipython",
    "version": 3
   },
   "file_extension": ".py",
   "mimetype": "text/x-python",
   "name": "python",
   "nbconvert_exporter": "python",
   "pygments_lexer": "ipython3",
   "version": "3.6.5"
  }
 },
 "nbformat": 4,
 "nbformat_minor": 1
}
