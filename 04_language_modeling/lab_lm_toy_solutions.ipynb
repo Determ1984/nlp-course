{
 "cells": [
  {
   "cell_type": "markdown",
   "metadata": {},
   "source": [
    "Lab: Language Modeling II\n",
    "------\n",
    "\n",
    "By The End Of This Session You Should Be Able To:\n",
    "----\n",
    "\n",
    "- Calculate unigram and bigram frequency counts\n",
    "- Use word frequency counts to maximum likelihood estimate (MLE)\n",
    "- Apply Laplace smoothing to predict unseen words"
   ]
  },
  {
   "cell_type": "markdown",
   "metadata": {},
   "source": [
    "HT: https://sites.google.com/site/gothnlp/exercises/jurafsky-martin/solutions"
   ]
  },
  {
   "cell_type": "code",
   "execution_count": 4,
   "metadata": {},
   "outputs": [],
   "source": [
    "reset -fs"
   ]
  },
  {
   "cell_type": "code",
   "execution_count": 5,
   "metadata": {},
   "outputs": [],
   "source": [
    "corpus = \"😥 🍷 😁 😴 😴 🌳 🌰 🐿 🐿 😥 😥 🍷 😁 😴  🌰 🐿\".split()"
   ]
  },
  {
   "cell_type": "markdown",
   "metadata": {},
   "source": [
    "TODO: Describe the corpus and sentence in your words"
   ]
  },
  {
   "cell_type": "code",
   "execution_count": null,
   "metadata": {},
   "outputs": [],
   "source": []
  },
  {
   "cell_type": "markdown",
   "metadata": {},
   "source": [
    "TODO: Write Python code to find the vocabulary (unique symbols) in our corpus:"
   ]
  },
  {
   "cell_type": "code",
   "execution_count": 6,
   "metadata": {},
   "outputs": [
    {
     "data": {
      "text/plain": [
       "{'🌰', '🌳', '🍷', '🐿', '😁', '😥', '😴'}"
      ]
     },
     "execution_count": 6,
     "metadata": {},
     "output_type": "execute_result"
    }
   ],
   "source": [
    "vocabulary = set(corpus)\n",
    "vocabulary"
   ]
  },
  {
   "cell_type": "markdown",
   "metadata": {},
   "source": [
    "TODO: Write Python code to calculate the [cardinality](https://en.wikipedia.org/wiki/Cardinality) of our corpus:"
   ]
  },
  {
   "cell_type": "code",
   "execution_count": 7,
   "metadata": {},
   "outputs": [
    {
     "data": {
      "text/plain": [
       "7"
      ]
     },
     "execution_count": 7,
     "metadata": {},
     "output_type": "execute_result"
    }
   ],
   "source": [
    "len(vocabulary) # The cardinality"
   ]
  },
  {
   "cell_type": "code",
   "execution_count": 8,
   "metadata": {},
   "outputs": [
    {
     "name": "stdout",
     "output_type": "stream",
     "text": [
      "{'😥': 0.1875, '🍷': 0.125, '😁': 0.125, '😴': 0.1875, '🌳': 0.0625, '🌰': 0.125, '🐿': 0.1875}\n"
     ]
    }
   ],
   "source": [
    "# The pmf\n",
    "from collections import Counter\n",
    "\n",
    "counts = Counter(corpus)\n",
    "pmf = {d:k/sum(counts.values()) for d, k in counts.items()}\n",
    "print(pmf)"
   ]
  },
  {
   "cell_type": "code",
   "execution_count": 9,
   "metadata": {},
   "outputs": [],
   "source": [
    "from random import choices"
   ]
  },
  {
   "cell_type": "code",
   "execution_count": 10,
   "metadata": {},
   "outputs": [
    {
     "data": {
      "text/plain": [
       "'😴 🐿 🍷 😴 😥 🍷'"
      ]
     },
     "execution_count": 10,
     "metadata": {},
     "output_type": "execute_result"
    }
   ],
   "source": [
    "# Random sentence from the corpus\n",
    "cat = \" \".join\n",
    "cat(choices(population=list(pmf.keys()), \n",
    "                       weights=list(pmf.values()), \n",
    "                       k=6))"
   ]
  },
  {
   "cell_type": "markdown",
   "metadata": {},
   "source": [
    "Bigrams"
   ]
  },
  {
   "cell_type": "code",
   "execution_count": 11,
   "metadata": {},
   "outputs": [],
   "source": [
    "from collections import defaultdict"
   ]
  },
  {
   "cell_type": "code",
   "execution_count": 20,
   "metadata": {},
   "outputs": [
    {
     "name": "stdout",
     "output_type": "stream",
     "text": [
      "(('😥', '🍷'), 2)\n",
      "(('🍷', '😁'), 2)\n",
      "(('😁', '😴'), 2)\n",
      "(('😴', '😴'), 1)\n",
      "(('😴', '🌳'), 1)\n",
      "(('🌳', '🌰'), 1)\n",
      "(('🌰', '🐿'), 2)\n",
      "(('🐿', '🐿'), 1)\n",
      "(('🐿', '😥'), 1)\n",
      "(('😥', '😥'), 1)\n",
      "(('😴', '🌰'), 1)\n"
     ]
    }
   ],
   "source": [
    "counts = defaultdict(int)\n",
    "for t in zip(corpus[:], corpus[1:]):\n",
    "    counts[t] += 1\n",
    "    \n",
    "print(*counts.items(), sep=\"\\n\")"
   ]
  },
  {
   "cell_type": "code",
   "execution_count": 21,
   "metadata": {},
   "outputs": [
    {
     "name": "stdout",
     "output_type": "stream",
     "text": [
      "(('😥', '🍷'), 0.13333333333333333)\n",
      "(('🍷', '😁'), 0.13333333333333333)\n",
      "(('😁', '😴'), 0.13333333333333333)\n",
      "(('😴', '😴'), 0.06666666666666667)\n",
      "(('😴', '🌳'), 0.06666666666666667)\n",
      "(('🌳', '🌰'), 0.06666666666666667)\n",
      "(('🌰', '🐿'), 0.13333333333333333)\n",
      "(('🐿', '🐿'), 0.06666666666666667)\n",
      "(('🐿', '😥'), 0.06666666666666667)\n",
      "(('😥', '😥'), 0.06666666666666667)\n",
      "(('😴', '🌰'), 0.06666666666666667)\n"
     ]
    }
   ],
   "source": [
    "pmf = {d:k/sum(counts.values()) for d, k in counts.items()}\n",
    "print(*pmf.items(), sep=\"\\n\")"
   ]
  },
  {
   "cell_type": "code",
   "execution_count": 29,
   "metadata": {},
   "outputs": [
    {
     "name": "stdout",
     "output_type": "stream",
     "text": [
      "🍷\n",
      "{('🍷', '😁'): 0.13333333333333333}\n"
     ]
    }
   ],
   "source": [
    "first_symbol = choices(list(vocabulary))[0]\n",
    "print(first_symbol)\n",
    "\n",
    "bigram_prob = {k:v for k,v in pmf.items() if k[0] == first_symbol}\n",
    "print(bigram_prob)"
   ]
  },
  {
   "cell_type": "code",
   "execution_count": 16,
   "metadata": {},
   "outputs": [
    {
     "data": {
      "text/plain": [
       "'🐿'"
      ]
     },
     "execution_count": 16,
     "metadata": {},
     "output_type": "execute_result"
    }
   ],
   "source": [
    "# Get next symbol\n",
    "second_symbols = list(zip(*bigram_prob.keys()))[1]\n",
    "next_symbol = choices(population=second_symbols, \n",
    "                      weights=list(bigram_prob.values()), \n",
    "                      k=1)[0]\n",
    "next_symbol"
   ]
  },
  {
   "cell_type": "code",
   "execution_count": 17,
   "metadata": {},
   "outputs": [],
   "source": [
    "def gen_sentence(pmf, length=5):\n",
    "    sentence = \"\"\n",
    "    first_symbol = choices(list(vocabulary))[0]\n",
    "    for _ in range(length):\n",
    "        bigram_prob = {k:v for k,v in pmf.items() if k[0] == first_symbol}\n",
    "        second_symbols = list(zip(*bigram_prob.keys()))[1]\n",
    "        next_symbol = choices(population=second_symbols, \n",
    "                              weights=list(bigram_prob.values()), \n",
    "                              k=1)[0]\n",
    "        sentence += \" \"+next_symbol\n",
    "        first_symbol = next_symbol\n",
    "    return sentence.strip()"
   ]
  },
  {
   "cell_type": "code",
   "execution_count": 18,
   "metadata": {},
   "outputs": [
    {
     "data": {
      "text/plain": [
       "'😥 🍷 😁 😴 🌰 🐿 🐿 😥 😥 🍷 😁 😴 🌰 🐿 😥 🍷 😁 😴 🌳 🌰'"
      ]
     },
     "execution_count": 18,
     "metadata": {},
     "output_type": "execute_result"
    }
   ],
   "source": [
    "gen_sentence(pmf, length=20)"
   ]
  },
  {
   "cell_type": "markdown",
   "metadata": {
    "collapsed": true
   },
   "source": [
    "<br>\n",
    "<br> \n",
    "<br>\n",
    "\n",
    "----"
   ]
  }
 ],
 "metadata": {
  "kernelspec": {
   "display_name": "Python 3",
   "language": "python",
   "name": "python3"
  },
  "language_info": {
   "codemirror_mode": {
    "name": "ipython",
    "version": 3
   },
   "file_extension": ".py",
   "mimetype": "text/x-python",
   "name": "python",
   "nbconvert_exporter": "python",
   "pygments_lexer": "ipython3",
   "version": "3.6.5"
  }
 },
 "nbformat": 4,
 "nbformat_minor": 1
}
