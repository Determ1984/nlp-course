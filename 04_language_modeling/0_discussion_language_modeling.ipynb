{
 "cells": [
  {
   "cell_type": "markdown",
   "metadata": {
    "slideshow": {
     "slide_type": "slide"
    }
   },
   "source": [
    "<center><img src=\"images/check_spells.gif\" width=\"700\"/></center>\n",
    "\n",
    "Language Modeling is useful for spell correction. How would you make a spell checker that could handle emojis?  \n",
    "\n",
    "🎃 🧟 👻 💀  \n",
    "vs.  \n",
    "🎃 🧟 👻 🤽"
   ]
  },
  {
   "cell_type": "markdown",
   "metadata": {
    "slideshow": {
     "slide_type": "slide"
    }
   },
   "source": [
    "<center><img src=\"images/emoji_prediction.jpg\" width=\"700\"/></center>\n",
    "[Emoji as a new independent language](http://www.bbc.com/future/story/20151012-will-emoji-become-a-new-language)\n",
    "\n",
    "My friend works at a startup that is does predictive text for emoji conversations, especially for Apple Watch. "
   ]
  },
  {
   "cell_type": "markdown",
   "metadata": {
    "slideshow": {
     "slide_type": "slide"
    }
   },
   "source": [
    "<br>\n",
    "<br> \n",
    "<br>\n",
    "\n",
    "----"
   ]
  }
 ],
 "metadata": {
  "celltoolbar": "Slideshow",
  "kernelspec": {
   "display_name": "Python 3",
   "language": "python",
   "name": "python3"
  },
  "language_info": {
   "codemirror_mode": {
    "name": "ipython",
    "version": 3
   },
   "file_extension": ".py",
   "mimetype": "text/x-python",
   "name": "python",
   "nbconvert_exporter": "python",
   "pygments_lexer": "ipython3",
   "version": "3.6.5"
  }
 },
 "nbformat": 4,
 "nbformat_minor": 1
}
